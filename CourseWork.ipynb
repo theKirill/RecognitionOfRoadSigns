{
  "nbformat": 4,
  "nbformat_minor": 0,
  "metadata": {
    "colab": {
      "name": "CourseWork.ipynb",
      "provenance": [],
      "include_colab_link": true
    },
    "kernelspec": {
      "name": "python3",
      "display_name": "Python 3"
    }
  },
  "cells": [
    {
      "cell_type": "markdown",
      "metadata": {
        "id": "view-in-github",
        "colab_type": "text"
      },
      "source": [
        "<a href=\"https://colab.research.google.com/github/theKirill/RecognitionOfRoadSigns/blob/master/CourseWork.ipynb\" target=\"_parent\"><img src=\"https://colab.research.google.com/assets/colab-badge.svg\" alt=\"Open In Colab\"/></a>"
      ]
    },
    {
      "cell_type": "code",
      "metadata": {
        "id": "_90o6X9YBtBc",
        "colab_type": "code",
        "colab": {}
      },
      "source": [
        "import os"
      ],
      "execution_count": 0,
      "outputs": []
    },
    {
      "cell_type": "code",
      "metadata": {
        "id": "h20DeIZvBxYY",
        "colab_type": "code",
        "colab": {}
      },
      "source": [
        "import numpy as np"
      ],
      "execution_count": 0,
      "outputs": []
    },
    {
      "cell_type": "code",
      "metadata": {
        "id": "IycsCQx7BxiP",
        "colab_type": "code",
        "colab": {}
      },
      "source": [
        "from skimage import io, transform"
      ],
      "execution_count": 0,
      "outputs": []
    },
    {
      "cell_type": "code",
      "metadata": {
        "id": "Aaa2DifnBxo2",
        "colab_type": "code",
        "colab": {}
      },
      "source": [
        "import matplotlib.pyplot as plt"
      ],
      "execution_count": 0,
      "outputs": []
    },
    {
      "cell_type": "code",
      "metadata": {
        "id": "70655SY1BxsD",
        "colab_type": "code",
        "colab": {}
      },
      "source": [
        "import pandas as pd"
      ],
      "execution_count": 0,
      "outputs": []
    },
    {
      "cell_type": "code",
      "metadata": {
        "id": "myayU-xLBxuh",
        "colab_type": "code",
        "colab": {}
      },
      "source": [
        "from PIL import Image, ImageDraw"
      ],
      "execution_count": 0,
      "outputs": []
    },
    {
      "cell_type": "code",
      "metadata": {
        "id": "570lRtlxBxzv",
        "colab_type": "code",
        "colab": {}
      },
      "source": [
        "import cv2"
      ],
      "execution_count": 0,
      "outputs": []
    },
    {
      "cell_type": "code",
      "metadata": {
        "id": "a6kEk4bmBxxW",
        "colab_type": "code",
        "colab": {}
      },
      "source": [
        "import keras "
      ],
      "execution_count": 0,
      "outputs": []
    },
    {
      "cell_type": "code",
      "metadata": {
        "id": "KovrIM8aB76Y",
        "colab_type": "code",
        "colab": {}
      },
      "source": [
        "from keras.models import Sequential "
      ],
      "execution_count": 0,
      "outputs": []
    },
    {
      "cell_type": "code",
      "metadata": {
        "id": "Q8S9IdgRB-Tu",
        "colab_type": "code",
        "colab": {}
      },
      "source": [
        "from keras.layers import Dense, Dropout, Flatten, Conv2D, MaxPooling2D"
      ],
      "execution_count": 0,
      "outputs": []
    },
    {
      "cell_type": "code",
      "metadata": {
        "id": "gxoLk5tuB-3d",
        "colab_type": "code",
        "colab": {}
      },
      "source": [
        "from keras.utils import to_categorical"
      ],
      "execution_count": 0,
      "outputs": []
    },
    {
      "cell_type": "code",
      "metadata": {
        "id": "X22LcUGsB-6e",
        "colab_type": "code",
        "colab": {}
      },
      "source": [
        "from keras.callbacks import ModelCheckpoint"
      ],
      "execution_count": 0,
      "outputs": []
    },
    {
      "cell_type": "code",
      "metadata": {
        "id": "Ivoh6vmXB-9R",
        "colab_type": "code",
        "colab": {}
      },
      "source": [
        "from keras.models import load_model"
      ],
      "execution_count": 0,
      "outputs": []
    },
    {
      "cell_type": "code",
      "metadata": {
        "id": "FnR5gtXyFDwf",
        "colab_type": "code",
        "colab": {}
      },
      "source": [
        "class RoadSignLocalization:\n",
        "  def __init__(self):\n",
        "    self.__path_images = \"drive/My Drive/Images_Train/\" #путь, где хранятся изображения\n",
        "    self.__extension_images = \".ppm\" #расширения изображений\n",
        "    self.__IMG_SIZE = 32 #размер изображения\n",
        "    self.__images_of_signs = [] # Массив для хранения всех изображений знаков\n",
        "    self.__classes_of_signs = [] # Массив для хранения номера класса каждого знака\n",
        "    \n",
        "  @property\n",
        "  def path_images(self):\n",
        "    return self.__path_images\n",
        "\n",
        "  @path_images.setter\n",
        "  def path_images(self, path):\n",
        "    self.__path_images = path\n",
        "\n",
        "  @property\n",
        "  def extension_images(self):\n",
        "    return self.__path_images\n",
        "\n",
        "  @path_images.setter\n",
        "  def extension_images(self, extension):\n",
        "    self.__extension_images = extension\n",
        "\n",
        "  @property\n",
        "  def images_of_signs(self):\n",
        "    return np.array(self.__images_of_signs, dtype = \"float32\") / 255.0\n",
        "\n",
        "  @property\n",
        "  def classes_of_signs(self):\n",
        "    return to_categorical(self.__classes_of_signs, CLASSES_COUNT)\n",
        "\n",
        "  #\"Вырезаем\" область знака\n",
        "  def get_sign_area(name_img, y_left, y_right, x_left, x_right):\n",
        "    img = cv2.imread(name_img)\n",
        "    # Обрезаем изображение по прямоугольнику\n",
        "    area_sign = img[y_left:y_right, x_left:x_right]\n",
        "    cv2.imwrite(name_img[:-4] + \"_new.ppm\", area_sign)\n",
        "\n",
        "  #Масштабируем изображение до 32*32\n",
        "  def scale_img(self, name_img):\n",
        "    basewidth = 300\n",
        "    img = Image.open(name_img)\n",
        "\n",
        "    draw = ImageDraw.Draw(img)  # Создаем инструмент для рисования.\n",
        "    width = img.size[0]  # Определяем ширину.\n",
        "    height = img.size[1]  # Определяем высоту.\n",
        "    pix = img.load()  # Выгружаем значения пикселей.\n",
        "\n",
        "    wpercent = (basewidth / float(img.size[0]))\n",
        "    # Масштабируем до нужного размера\n",
        "    img = img.resize((self.__IMG_SIZE, self.__IMG_SIZE), Image.ANTIALIAS)\n",
        "    img.save(name_img)\n",
        "\n",
        "  # Получение всех содержащихся обучающих изображений знаков и номеров классов этих знаков\n",
        "  def get_all_train_images(self):\n",
        "    for root, dirs, files in os.walk(self.__path_images):\n",
        "      sign_class = root[-2:]\n",
        "      if sign_class.isdigit():\n",
        "        name_csv = root + \"/GT-000\" + sign_class + \".csv\"\n",
        "        file_csv = pd.read_csv(name_csv, delimiter = ';')\n",
        "        #Берём углы знаков для каждого изображения из csv файла\n",
        "        x_left = file_csv['Roi.X1']\n",
        "        y_left = file_csv['Roi.Y1']\n",
        "        x_right = file_csv['Roi.X2']\n",
        "        y_right = file_csv['Roi.Y2']\n",
        "        i = 0\n",
        "        for file in files: #каждое изображение обрезаем по области знака, масштабируем до 32*32\n",
        "          if file[-4:] == self.__extension_images:\n",
        "            get_sign_area(root +'/' + file, y_left[i], y_right[i], x_left[i], x_right[i])\n",
        "            scale_img(root + '/' + file[:-4] + \"_new.ppm\")\n",
        "            self.__images_of_signs.append(io.imread(root + '/' + file[:-4] + \"_new.ppm\"))#добавляем в массив изображений\n",
        "            self.__classes_of_signs.append(int(sign_class))#заносим информацию о классе знака\n",
        "            i+=1\n",
        "\n",
        "  # Получение всех тестовых изображений знаков и номеров классов этих знаков\n",
        "  def get_all_test_images(self):\n",
        "    self.__path_images = \"drive/My Drive/Images_Test/\"\n",
        "    self.__images_of_signs = []\n",
        "\n",
        "    file_csv = pd.read_csv(self.__path_images + 'GT-final_test.csv', delimiter=';') #читаем информацию о каждом изображении\n",
        "    #Берём углы и классы знаков для каждого изображения из csv файла\n",
        "    images_names = file_csv['Filename']\n",
        "    x_left = file_csv['Roi.X1']\n",
        "    y_left = file_csv['Roi.Y1']\n",
        "    x_right = file_csv['Roi.X2']\n",
        "    y_right = file_csv['Roi.Y2']\n",
        "    self.__classes_of_signs = file_csv[\"ClassId\"]\n",
        "\n",
        "    for i in range(images_names.size):#каждое изображение обрезаем по области знака, масштабируем до 32*32\n",
        "      get_sign_area(self.__path_images + images_names[i], y_left[i], y_right[i], x_left[i], x_right[i])\n",
        "      scale_img(self.__path_images + images_names[i][:-4] + \"_new.ppm\")\n",
        "      self.__images_of_signs.append(io.imread(self.__path_images + images_names[i][:-4] + \"_new.ppm\"))"
      ],
      "execution_count": 0,
      "outputs": []
    },
    {
      "cell_type": "code",
      "metadata": {
        "id": "Om3U64dqRcKt",
        "colab_type": "code",
        "colab": {}
      },
      "source": [
        "class RoadSignClassification:\n",
        "  def __init__(self):\n",
        "    self.__EPOCHS_COUNT = 50\n",
        "    self.__BATCH_SIZE = 200\n",
        "    self.__X_train = []\n",
        "    self.__y_train = []\n",
        "    self.__X_test = []\n",
        "    self.__y_test = []\n",
        "    self.__history = []\n",
        "\n",
        "  @property\n",
        "  def EPOCHS_COUNT(self):\n",
        "    return self.__EPOCHS_COUNT\n",
        "\n",
        "  @EPOCHS_COUNT.setter\n",
        "  def EPOCHS_COUNT(self, count):\n",
        "    self.__EPOCHS_COUNT = count\n",
        "\n",
        "  @property\n",
        "  def BATCH_SIZE(self):\n",
        "    return self.__BATCH_SIZE\n",
        "\n",
        "  @BATCH_SIZE.setter\n",
        "  def BATCH_SIZE(self, size):\n",
        "    self.__BATCH_SIZE = size\n",
        "\n",
        "  def get_model():\n",
        "    model = Sequential() # Создание модели\n",
        "    model.add(Conv2D(32, (3, 3), input_shape = (IMG_SIZE, IMG_SIZE, 3), padding = 'same', activation = 'relu'))\n",
        "    \n",
        "    model.add(MaxPooling2D(pool_size = (2, 2)))\n",
        "    model.add(Dropout(0.2))\n",
        "    \n",
        "    model.add(Conv2D(64, (3, 3), padding = 'same', activation = 'relu'))\n",
        "\n",
        "    model.add(MaxPooling2D(pool_size = (2, 2)))\n",
        "    model.add(Dropout(0.2))\n",
        "    \n",
        "    model.add(Conv2D(128, (3, 3), padding = 'same', activation = 'relu'))\n",
        "    \n",
        "    model.add(MaxPooling2D(pool_size = (2, 2)))\n",
        "    model.add(Dropout(0.2))\n",
        "    \n",
        "    model.add(Flatten())\n",
        "\n",
        "    model.add(Dense(512, activation = 'relu'))\n",
        "    model.add(Dropout(0.5))\n",
        "    \n",
        "    model.add(Dense(CLASSES_COUNT, activation = 'softmax'))\n",
        "    \n",
        "    model.compile(loss = 'categorical_crossentropy', optimizer = 'adam', metrics = ['accuracy'])\n",
        "  \n",
        "    return model\n",
        "\n",
        "  # подготавливаем изображения для обучения\n",
        "  def prepocess_train_images(self):\n",
        "    localization = RoadSignLocalization()\n",
        "    localization.get_all_train_images()\n",
        "    self.__X_train = localization.images_of_signs\n",
        "    self.__y_train = localization.classes_of_signs\n",
        "\n",
        "  # подготавливаем изображения для теста\n",
        "  def prepocess_test_images(self):\n",
        "    localization = RoadSignLocalization()\n",
        "    localization.get_all_test_images()\n",
        "    self.__X_test = localization.images_of_signs\n",
        "    self.__y_test = localization.classes_of_signs\n",
        "\n",
        "  # обучаем модель\n",
        "  def fit_model(self):\n",
        "    my_model = get_model()\n",
        "    self.__history = my_model.fit(self.__X_train, self.__y_train, epochs = self.__EPOCHS_COUNT, batch_size = self.__BATCH_SIZE, validation_split = 0.1,\n",
        "         callbacks=[ModelCheckpoint('drive/My Drive/Models/modelBest____.h5', save_best_only = True)])\n",
        "\n",
        "  # получаем ранее обученную модель  \n",
        "  def get_trained_model():\n",
        "    model = load_model('drive/My Drive/Models/modelBest03_11(11).h5')\n",
        "    model.compile(loss = 'categorical_crossentropy', optimizer = 'adam', metrics = ['accuracy'])\n",
        "    return model\n",
        "\n",
        "  # предсказываем классы\n",
        "  def predict_classes():\n",
        "    trained_model = get_trained_model()\n",
        "    prediction = trained_model.predict_classes(self.__X_test)\n",
        "    return np.sum(prediction == self.__y_test) / np.size(prediction) "
      ],
      "execution_count": 0,
      "outputs": []
    }
  ]
}