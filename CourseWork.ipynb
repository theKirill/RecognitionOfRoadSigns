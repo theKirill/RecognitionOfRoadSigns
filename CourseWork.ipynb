{
  "nbformat": 4,
  "nbformat_minor": 0,
  "metadata": {
    "colab": {
      "name": "CourseWork.ipynb",
      "provenance": [],
      "collapsed_sections": [],
      "include_colab_link": true
    },
    "kernelspec": {
      "name": "python3",
      "display_name": "Python 3"
    },
    "accelerator": "GPU"
  },
  "cells": [
    {
      "cell_type": "markdown",
      "metadata": {
        "id": "view-in-github",
        "colab_type": "text"
      },
      "source": [
        "<a href=\"https://colab.research.google.com/github/theKirill/RecognitionOfRoadSigns/blob/master/CourseWork.ipynb\" target=\"_parent\"><img src=\"https://colab.research.google.com/assets/colab-badge.svg\" alt=\"Open In Colab\"/></a>"
      ]
    },
    {
      "cell_type": "code",
      "metadata": {
        "id": "_90o6X9YBtBc",
        "colab_type": "code",
        "colab": {}
      },
      "source": [
        "import os"
      ],
      "execution_count": 0,
      "outputs": []
    },
    {
      "cell_type": "code",
      "metadata": {
        "id": "h20DeIZvBxYY",
        "colab_type": "code",
        "colab": {}
      },
      "source": [
        "import numpy as np"
      ],
      "execution_count": 0,
      "outputs": []
    },
    {
      "cell_type": "code",
      "metadata": {
        "id": "IycsCQx7BxiP",
        "colab_type": "code",
        "colab": {}
      },
      "source": [
        "from skimage import io, transform"
      ],
      "execution_count": 0,
      "outputs": []
    },
    {
      "cell_type": "code",
      "metadata": {
        "id": "Aaa2DifnBxo2",
        "colab_type": "code",
        "colab": {}
      },
      "source": [
        "import matplotlib.pyplot as plt"
      ],
      "execution_count": 0,
      "outputs": []
    },
    {
      "cell_type": "code",
      "metadata": {
        "id": "70655SY1BxsD",
        "colab_type": "code",
        "colab": {}
      },
      "source": [
        "import pandas as pd"
      ],
      "execution_count": 0,
      "outputs": []
    },
    {
      "cell_type": "code",
      "metadata": {
        "id": "myayU-xLBxuh",
        "colab_type": "code",
        "colab": {}
      },
      "source": [
        "from PIL import Image, ImageDraw"
      ],
      "execution_count": 0,
      "outputs": []
    },
    {
      "cell_type": "code",
      "metadata": {
        "id": "570lRtlxBxzv",
        "colab_type": "code",
        "colab": {}
      },
      "source": [
        "import cv2"
      ],
      "execution_count": 0,
      "outputs": []
    },
    {
      "cell_type": "code",
      "metadata": {
        "id": "a6kEk4bmBxxW",
        "colab_type": "code",
        "outputId": "c6f7d785-78eb-45ab-f17d-03457faab713",
        "colab": {
          "base_uri": "https://localhost:8080/",
          "height": 80
        }
      },
      "source": [
        "import keras "
      ],
      "execution_count": 10,
      "outputs": [
        {
          "output_type": "stream",
          "text": [
            "Using TensorFlow backend.\n"
          ],
          "name": "stderr"
        },
        {
          "output_type": "display_data",
          "data": {
            "text/html": [
              "<p style=\"color: red;\">\n",
              "The default version of TensorFlow in Colab will soon switch to TensorFlow 2.x.<br>\n",
              "We recommend you <a href=\"https://www.tensorflow.org/guide/migrate\" target=\"_blank\">upgrade</a> now \n",
              "or ensure your notebook will continue to use TensorFlow 1.x via the <code>%tensorflow_version 1.x</code> magic:\n",
              "<a href=\"https://colab.research.google.com/notebooks/tensorflow_version.ipynb\" target=\"_blank\">more info</a>.</p>\n"
            ],
            "text/plain": [
              "<IPython.core.display.HTML object>"
            ]
          },
          "metadata": {
            "tags": []
          }
        }
      ]
    },
    {
      "cell_type": "code",
      "metadata": {
        "id": "KovrIM8aB76Y",
        "colab_type": "code",
        "colab": {}
      },
      "source": [
        "from keras.models import Sequential "
      ],
      "execution_count": 0,
      "outputs": []
    },
    {
      "cell_type": "code",
      "metadata": {
        "id": "Q8S9IdgRB-Tu",
        "colab_type": "code",
        "colab": {}
      },
      "source": [
        "from keras.layers import Dense, Dropout, Flatten, Conv2D, MaxPooling2D"
      ],
      "execution_count": 0,
      "outputs": []
    },
    {
      "cell_type": "code",
      "metadata": {
        "id": "gxoLk5tuB-3d",
        "colab_type": "code",
        "colab": {}
      },
      "source": [
        "from keras.utils import to_categorical"
      ],
      "execution_count": 0,
      "outputs": []
    },
    {
      "cell_type": "code",
      "metadata": {
        "id": "X22LcUGsB-6e",
        "colab_type": "code",
        "colab": {}
      },
      "source": [
        "from keras.callbacks import ModelCheckpoint"
      ],
      "execution_count": 0,
      "outputs": []
    },
    {
      "cell_type": "code",
      "metadata": {
        "id": "Ivoh6vmXB-9R",
        "colab_type": "code",
        "colab": {}
      },
      "source": [
        "from keras.models import load_model"
      ],
      "execution_count": 0,
      "outputs": []
    },
    {
      "cell_type": "code",
      "metadata": {
        "id": "YRDIsDUHwfi4",
        "colab_type": "code",
        "colab": {}
      },
      "source": [
        "from sklearn import model_selection   "
      ],
      "execution_count": 0,
      "outputs": []
    },
    {
      "cell_type": "code",
      "metadata": {
        "id": "uzl6aIE0A7jm",
        "colab_type": "code",
        "colab": {}
      },
      "source": [
        "from sklearn.model_selection import cross_val_score"
      ],
      "execution_count": 0,
      "outputs": []
    },
    {
      "cell_type": "code",
      "metadata": {
        "id": "urP_4sppPKO0",
        "colab_type": "code",
        "colab": {}
      },
      "source": [
        "from sklearn.utils import shuffle "
      ],
      "execution_count": 0,
      "outputs": []
    },
    {
      "cell_type": "code",
      "metadata": {
        "id": "DoqCVNX7WjW5",
        "colab_type": "code",
        "colab": {}
      },
      "source": [
        "import seaborn as sn\n",
        "from sklearn.metrics import classification_report"
      ],
      "execution_count": 0,
      "outputs": []
    },
    {
      "cell_type": "code",
      "metadata": {
        "id": "8fcxUBsTnHY2",
        "colab_type": "code",
        "outputId": "4d023ce3-a498-469c-db6d-9126a742cfd0",
        "colab": {
          "base_uri": "https://localhost:8080/",
          "height": 299
        }
      },
      "source": [
        "import keras_metrics"
      ],
      "execution_count": 0,
      "outputs": [
        {
          "output_type": "error",
          "ename": "ModuleNotFoundError",
          "evalue": "ignored",
          "traceback": [
            "\u001b[0;31m---------------------------------------------------------------------------\u001b[0m",
            "\u001b[0;31mModuleNotFoundError\u001b[0m                       Traceback (most recent call last)",
            "\u001b[0;32m<ipython-input-15-20ad547a4142>\u001b[0m in \u001b[0;36m<module>\u001b[0;34m()\u001b[0m\n\u001b[0;32m----> 1\u001b[0;31m \u001b[0;32mimport\u001b[0m \u001b[0mkeras_metrics\u001b[0m\u001b[0;34m\u001b[0m\u001b[0;34m\u001b[0m\u001b[0m\n\u001b[0m",
            "\u001b[0;31mModuleNotFoundError\u001b[0m: No module named 'keras_metrics'",
            "",
            "\u001b[0;31m---------------------------------------------------------------------------\u001b[0;32m\nNOTE: If your import is failing due to a missing package, you can\nmanually install dependencies using either !pip or !apt.\n\nTo view examples of installing some common dependencies, click the\n\"Open Examples\" button below.\n\u001b[0;31m---------------------------------------------------------------------------\u001b[0m\n"
          ]
        }
      ]
    },
    {
      "cell_type": "code",
      "metadata": {
        "id": "o7-lpbt5OQX8",
        "colab_type": "code",
        "colab": {}
      },
      "source": [
        "IMG_SIZE = 32 #размер изображения"
      ],
      "execution_count": 0,
      "outputs": []
    },
    {
      "cell_type": "code",
      "metadata": {
        "id": "4DNJN53KObro",
        "colab_type": "code",
        "colab": {}
      },
      "source": [
        "CLASSES_COUNT = 30"
      ],
      "execution_count": 0,
      "outputs": []
    },
    {
      "cell_type": "code",
      "metadata": {
        "id": "FnR5gtXyFDwf",
        "colab_type": "code",
        "colab": {}
      },
      "source": [
        "class RoadSignLocalization:\n",
        "  def __init__(self):\n",
        "    self.__path_images = \"\" #путь, где хранятся изображения\n",
        "    self.__extension_images = \".ppm\" #расширения изображений\n",
        "    \n",
        "  @property\n",
        "  def path_images(self):\n",
        "    return self.__path_images\n",
        "\n",
        "  @path_images.setter\n",
        "  def path_images(self, path):\n",
        "    self.__path_images = path\n",
        "\n",
        "  @property\n",
        "  def extension_images(self):\n",
        "    return self.__path_images\n",
        "\n",
        "  @path_images.setter\n",
        "  def extension_images(self, extension):\n",
        "    self.__extension_images = extension\n",
        "\n",
        "  # Получение всех содержащихся обучающих изображений знаков и номеров классов этих знаков\n",
        "  def get_all_train_images(self):\n",
        "    self.__path_images = \"drive/My Drive/Images_Train/\"\n",
        "    images_of_signs = []\n",
        "    classes_of_signs = []\n",
        "\n",
        "    for root, dirs, files in os.walk(self.__path_images):\n",
        "      sign_class = root[-2:]\n",
        "      if sign_class.isdigit():#у каждого класса знака читаем csv-файл\n",
        "        name_csv = root + \"/GT-000\" + sign_class + \".csv\"\n",
        "        file_csv = pd.read_csv(name_csv, delimiter = ';')\n",
        "        #Берём углы знаков для каждого изображения из csv файла\n",
        "        x_left = file_csv['Roi.X1']\n",
        "        y_left = file_csv['Roi.Y1']\n",
        "        x_right = file_csv['Roi.X2']\n",
        "        y_right = file_csv['Roi.Y2']\n",
        "        i = 0\n",
        "        for file in files: #каждое изображение обрезаем по области знака, масштабируем до 32*32\n",
        "          if file[-4:] == self.__extension_images:\n",
        "            self.get_sign_area(root +'/', file, y_left[i], y_right[i], x_left[i], x_right[i])\n",
        "            self.scale_img(root + '/', file[:-4] + \"_new.ppm\")\n",
        "            images_of_signs.append(io.imread(root + '/' + file[:-4] + \"_new.ppm\"))#добавляем в массив изображений\n",
        "            classes_of_signs.append(int(sign_class))#заносим информацию о классе знака\n",
        "            i+=1\n",
        "    \n",
        "    images_of_signs = np.array(images_of_signs, dtype = \"float32\") / 255.0\n",
        "    classes_of_signs = to_categorical(classes_of_signs, CLASSES_COUNT)\n",
        "\n",
        "    return images_of_signs, classes_of_signs\n",
        "\n",
        "    # Получение всех содержащихся обучающих изображений знаков и номеров классов этих знаков\n",
        "  def get_all_train_images_(self):\n",
        "    self.__path_images = \"drive/My Drive/Images_Train/\"\n",
        "    images_of_signs = []\n",
        "    classes_of_signs = []\n",
        "\n",
        "    for root, dirs, files in os.walk(self.__path_images):\n",
        "      sign_class = root[-2:]\n",
        "      if sign_class.isdigit():\n",
        "        print(sign_class)\n",
        "        for file in files:\n",
        "          if file[-8:] == \"_new.ppm\":\n",
        "            images_of_signs.append(io.imread(root + '/' + file))#добавляем в массив изображений\n",
        "            classes_of_signs.append(int(sign_class))#заносим информацию о классе знака\n",
        "    \n",
        "    images_of_signs = np.array(images_of_signs, dtype = \"float32\") / 255.0\n",
        "    classes_of_signs = to_categorical(classes_of_signs, CLASSES_COUNT)\n",
        "\n",
        "    return images_of_signs, classes_of_signs\n",
        "\n",
        "  # Получение всех тестовых изображений знаков и номеров классов этих знаков\n",
        "  def get_all_test_images(self):\n",
        "    self.__path_images = \"drive/My Drive/Images_Test/\"\n",
        "    images_of_signs = []\n",
        "    classes_of_signs = []\n",
        "\n",
        "    file_csv = pd.read_csv(self.__path_images + 'GT-final_test.csv', delimiter=';') #читаем информацию о каждом изображении\n",
        "    #Берём углы и классы знаков для каждого изображения из csv файла\n",
        "    images_names = file_csv['Filename']\n",
        "    x_left = file_csv['Roi.X1']\n",
        "    y_left = file_csv['Roi.Y1']\n",
        "    x_right = file_csv['Roi.X2']\n",
        "    y_right = file_csv['Roi.Y2']\n",
        "    classes_of_signs = file_csv[\"ClassId\"]\n",
        "\n",
        "    for i in range(images_names.size):#каждое изображение обрезаем по области знака, масштабируем до 32*32\n",
        "      self.get_sign_area(self.__path_images, images_names[i], y_left[i], y_right[i], x_left[i], x_right[i])\n",
        "      self.scale_img(self.__path_images, images_names[i][:-4] + \"_new.ppm\")\n",
        "      images_of_signs.append(io.imread(self.__path_images + images_names[i][:-4] + \"_new.ppm\"))\n",
        "\n",
        "    images_of_signs = np.array(images_of_signs, dtype = \"float32\") / 255.0\n",
        "    classes_of_signs = to_categorical(classes_of_signs, CLASSES_COUNT)\n",
        "\n",
        "    return images_of_signs, classes_of_signs\n",
        "\n",
        "    # Получение всех тестовых изображений знаков и номеров классов этих знаков\n",
        "  def get_all_test_images_(self):\n",
        "    self.__path_images = \"drive/My Drive/Images_Test/\"\n",
        "    images_of_signs = []\n",
        "    classes_of_signs = []\n",
        "\n",
        "    file_csv = pd.read_csv(self.__path_images + 'GT-final_test.csv', delimiter=';') #читаем информацию о каждом изображении\n",
        "    classes_of_signs = file_csv[\"ClassId\"]\n",
        "    images_names = file_csv['Filename']\n",
        "\n",
        "    for i in range(images_names.size):#каждое изображение обрезаем по области знака, масштабируем до 32*32\n",
        "      images_of_signs.append(io.imread(self.__path_images + images_names[i][:-4] + \"_new.ppm\"))\n",
        "\n",
        "    images_of_signs = np.array(images_of_signs, dtype = \"float32\") / 255.0\n",
        "\n",
        "    return images_of_signs, classes_of_signs\n",
        "\n",
        "  # Получение всех изображений знаков для предсказания классов\n",
        "  def get_all_signs_for_predict(self):\n",
        "    self.__path_images = \"drive/My Drive/BadSigns/\"\n",
        "    new_root = \"drive/My Drive/GoodSigns/\"\n",
        "    images_of_signs = []\n",
        "    names_of_images = []\n",
        "\n",
        "    for root, dirs, files in os.walk(self.__path_images):\n",
        "      for file in files:\n",
        "        print(file)\n",
        "        img = io.imread(root + file)\n",
        "        hsv = self.to_hsv(img)\n",
        "        mask = self.binarization_blue(hsv)\n",
        "        mask = self.canny(mask)\n",
        "\n",
        "        contours, hierarchy = cv2.findContours(mask, cv2.RETR_TREE, cv2.CHAIN_APPROX_SIMPLE) #находим контуры\n",
        "        #contours = contours[1] #берём только массив контуров\n",
        "\n",
        "        if len(contours) > 0:\n",
        "          contours = sorted(contours, key = cv2.contourArea, reverse = True)#сортируем контуры по площади\n",
        "          (x,y,w,h) = cv2.boundingRect(contours[0]) #вырезаем прямоугольную область самого большого контура, получаем координаты его верхнего левого угла и ширину/высоту\n",
        "\n",
        "          # обрезаем знак по прямоугольнику, масштабируем\n",
        "          self.get_sign_area(root, file, y, y + h, x, x + w, new_root)      \n",
        "          self.scale_img(new_root, file)\n",
        "          images_of_signs.append(io.imread(new_root + file))\n",
        "          names_of_images.append(file)\n",
        "    \n",
        "    images_of_signs = np.array(images_of_signs, dtype = \"float32\") / 255.0\n",
        "    names_of_images = np.array(names_of_images)\n",
        "\n",
        "    return images_of_signs, names_of_images\n",
        "\n",
        "  #\"Вырезаем\" область знака\n",
        "  def get_sign_area(self, root, name_img, y_left, y_right, x_left, x_right, new_root = \"\"):\n",
        "    img = cv2.imread(root + name_img)\n",
        "    # Обрезаем изображение по прямоугольнику\n",
        "    area_sign = img[y_left:y_right, x_left:x_right]\n",
        "\n",
        "    if new_root == \"\":\n",
        "      cv2.imwrite(root + name_img[:-4] + \"_new.\" + name_img[-3:], area_sign)\n",
        "    else:\n",
        "      cv2.imwrite(new_root + name_img, area_sign)\n",
        "\n",
        "  #Масштабируем изображение до 32*32\n",
        "  def scale_img(self, root, name_img):\n",
        "    basewidth = 300\n",
        "    img = Image.open(root + name_img)\n",
        "\n",
        "    draw = ImageDraw.Draw(img)  # Создаем инструмент для рисования.\n",
        "    width = img.size[0]  # Определяем ширину.\n",
        "    height = img.size[1]  # Определяем высоту.\n",
        "    pix = img.load()  # Выгружаем значения пикселей.\n",
        "\n",
        "    wpercent = (basewidth / float(img.size[0]))\n",
        "    # Масштабируем до нужного размера\n",
        "    img = img.resize((IMG_SIZE, IMG_SIZE), Image.ANTIALIAS)\n",
        "    img.save(root + name_img)\n",
        "\n",
        "  # перевод изображения в HSV-формат\n",
        "  def to_hsv(self, img):\n",
        "    return cv2.cvtColor(img, cv2.COLOR_BGR2HSV)\n",
        "\n",
        "  # Ищем с помощью детектора Canny края объектов\n",
        "  def canny(self, img):\n",
        "    return cv2.Canny(img, 100, 200, apertureSize = 7)\n",
        "  \n",
        "  # бинаризация изображения по красному цвету\n",
        "  def binarization_red(self, img):\n",
        "    return cv2.inRange(img, (117, 100, 45), (255, 255, 255))\n",
        "  \n",
        "  # бинаризация изображения по синему цвету\n",
        "  def binarization_blue(self, img):\n",
        "    return cv2.inRange(img, (0, 175, 40), (25, 255, 255))#cv2.inRange(img, (117,100,45), (255,255,255))#cv2.inRange(sss, (0, 225, 0), (50, 255, 255))"
      ],
      "execution_count": 0,
      "outputs": []
    },
    {
      "cell_type": "code",
      "metadata": {
        "id": "TsiZQe1l-u5q",
        "colab_type": "code",
        "colab": {}
      },
      "source": [
        "localization = RoadSignLocalization()"
      ],
      "execution_count": 0,
      "outputs": []
    },
    {
      "cell_type": "code",
      "metadata": {
        "id": "FRJBVEYl-qwt",
        "colab_type": "code",
        "colab": {}
      },
      "source": [
        "X_test, y_test = localization.get_all_test_images_()"
      ],
      "execution_count": 0,
      "outputs": []
    },
    {
      "cell_type": "code",
      "metadata": {
        "id": "ytsePU68Hk3u",
        "colab_type": "code",
        "colab": {
          "base_uri": "https://localhost:8080/",
          "height": 34
        },
        "outputId": "79efe188-ad27-415a-dc29-a7b422303c53"
      },
      "source": [
        "X_test.shape"
      ],
      "execution_count": 25,
      "outputs": [
        {
          "output_type": "execute_result",
          "data": {
            "text/plain": [
              "(9240, 32, 32, 3)"
            ]
          },
          "metadata": {
            "tags": []
          },
          "execution_count": 25
        }
      ]
    },
    {
      "cell_type": "code",
      "metadata": {
        "id": "VBg3_77bnuYv",
        "colab_type": "code",
        "outputId": "4777e21e-ded9-41e2-c4e5-f97433a0eff9",
        "colab": {
          "base_uri": "https://localhost:8080/",
          "height": 1000
        }
      },
      "source": [
        "kek = RoadSignLocalization()\n",
        "kek.get_all_signs_for_predict()\n",
        "# new_root = \"drive/My Drive/GoodSigns/\"\n",
        "\n",
        "# img = io.imread('drive/My Drive/BadSigns/sign80.jpg')\n",
        "# hsv = kek.to_hsv(img)\n",
        "# mask = kek.binarization_red(hsv)\n",
        "# #mask = kek.canny(mask)\n",
        "# #plt.imshow(mask)\n",
        "# contours, keke = cv2.findContours(mask, cv2.RETR_TREE, cv2.CHAIN_APPROX_NONE) #находим контуры\n",
        "# contours = contours[1] #берём только массив контуров\n",
        "\n",
        "# contours = sorted(contours, key = cv2.contourArea, reverse = True)#сортируем контуры по площади\n",
        "# (x,y,w,h) = cv2.boundingRect(contours[0]) #вырезаем прямоугольную область самого большого контура, получаем координаты его верхнего левого угла и ширину/высоту\n",
        "\n",
        "# font = cv2.FONT_HERSHEY_COMPLEX\n",
        "# cv2.putText(img, 'наш произвольный текст', (x,y), font, 1, color=(255, 0, 0), thickness=1)\n",
        "\n",
        "# # # обрезаем знак по прямоугольнику, масштабируем\n",
        "# kek.get_sign_area(\"drive/My Drive/BadSigns/\", 'sign80.jpg', y, y + h, x, x + w, new_root)      \n",
        "# kek.scale_img(new_root, 'sign80.jpg')\n"
      ],
      "execution_count": 0,
      "outputs": [
        {
          "output_type": "stream",
          "text": [
            "sign30.jpg\n",
            "sign20.jpg\n",
            "sign_въезд_запрещён.jpg\n",
            "sign_no_drive.jpg\n",
            "sign_humans.jpg\n",
            "sign_right_straight.jpg\n",
            "sign50.jpg\n",
            "sign_опасные_повороты.jpg\n",
            "sign80.jpg\n",
            "sign_уступите_road2.jpg\n",
            "sign_обгон_запрещен.jpg\n",
            "sign_крутой_поворот_право.jpg\n",
            "rrr.jpg\n",
            "sign_круговое_движение.jpg\n",
            "sign_stop.jpg\n",
            "sign_left.jpg\n"
          ],
          "name": "stdout"
        },
        {
          "output_type": "execute_result",
          "data": {
            "text/plain": [
              "(array([[[[0.40784314, 0.6       , 0.81960785],\n",
              "          [0.3647059 , 0.5686275 , 0.7921569 ],\n",
              "          [0.3254902 , 0.5529412 , 0.8       ],\n",
              "          ...,\n",
              "          [0.35686275, 0.54509807, 0.7254902 ],\n",
              "          [0.30588236, 0.49803922, 0.654902  ],\n",
              "          [0.25882354, 0.45490196, 0.5921569 ]],\n",
              " \n",
              "         [[0.39607844, 0.59607846, 0.8117647 ],\n",
              "          [0.34901962, 0.5647059 , 0.7882353 ],\n",
              "          [0.30980393, 0.54509807, 0.7882353 ],\n",
              "          ...,\n",
              "          [0.3372549 , 0.5372549 , 0.7137255 ],\n",
              "          [0.2901961 , 0.49411765, 0.64705884],\n",
              "          [0.24313726, 0.4509804 , 0.58431375]],\n",
              " \n",
              "         [[0.3647059 , 0.58431375, 0.80784315],\n",
              "          [0.32156864, 0.5529412 , 0.78039217],\n",
              "          [0.2784314 , 0.5294118 , 0.78039217],\n",
              "          ...,\n",
              "          [0.3137255 , 0.5254902 , 0.7058824 ],\n",
              "          [0.26666668, 0.48235294, 0.63529414],\n",
              "          [0.21960784, 0.4392157 , 0.5764706 ]],\n",
              " \n",
              "         ...,\n",
              " \n",
              "         [[0.46666667, 0.5647059 , 0.6431373 ],\n",
              "          [0.38039216, 0.4862745 , 0.5686275 ],\n",
              "          [0.25882354, 0.36862746, 0.45490196],\n",
              "          ...,\n",
              "          [0.21568628, 0.36078432, 0.43137255],\n",
              "          [0.23529412, 0.3529412 , 0.39607844],\n",
              "          [0.23921569, 0.34509805, 0.38039216]],\n",
              " \n",
              "         [[0.4745098 , 0.5764706 , 0.6431373 ],\n",
              "          [0.3882353 , 0.49019608, 0.5568628 ],\n",
              "          [0.26666668, 0.3764706 , 0.45882353],\n",
              "          ...,\n",
              "          [0.21960784, 0.36078432, 0.41568628],\n",
              "          [0.24313726, 0.34901962, 0.39215687],\n",
              "          [0.2509804 , 0.34117648, 0.37254903]],\n",
              " \n",
              "         [[0.4862745 , 0.5764706 , 0.6392157 ],\n",
              "          [0.39215687, 0.49411765, 0.56078434],\n",
              "          [0.27450982, 0.38039216, 0.45490196],\n",
              "          ...,\n",
              "          [0.23137255, 0.36078432, 0.41960785],\n",
              "          [0.24705882, 0.3529412 , 0.3882353 ],\n",
              "          [0.25882354, 0.3372549 , 0.3647059 ]]],\n",
              " \n",
              " \n",
              "        [[[0.19607843, 0.29411766, 0.4117647 ],\n",
              "          [0.13725491, 0.21960784, 0.3254902 ],\n",
              "          [0.20392157, 0.26666668, 0.35686275],\n",
              "          ...,\n",
              "          [0.05882353, 0.09411765, 0.12156863],\n",
              "          [0.0627451 , 0.09803922, 0.1254902 ],\n",
              "          [0.08235294, 0.11764706, 0.14509805]],\n",
              " \n",
              "         [[0.19215687, 0.2901961 , 0.4117647 ],\n",
              "          [0.11764706, 0.2       , 0.30588236],\n",
              "          [0.1764706 , 0.23921569, 0.32941177],\n",
              "          ...,\n",
              "          [0.05882353, 0.09411765, 0.12156863],\n",
              "          [0.06666667, 0.10196079, 0.12941177],\n",
              "          [0.08235294, 0.11764706, 0.14509805]],\n",
              " \n",
              "         [[0.1882353 , 0.28627452, 0.40784314],\n",
              "          [0.08627451, 0.16862746, 0.28235295],\n",
              "          [0.13725491, 0.2       , 0.2901961 ],\n",
              "          ...,\n",
              "          [0.0627451 , 0.09803922, 0.1254902 ],\n",
              "          [0.06666667, 0.10196079, 0.12941177],\n",
              "          [0.08627451, 0.12156863, 0.14901961]],\n",
              " \n",
              "         ...,\n",
              " \n",
              "         [[0.43137255, 0.6509804 , 0.9411765 ],\n",
              "          [0.48235294, 0.69411767, 0.96862745],\n",
              "          [0.38431373, 0.5803922 , 0.827451  ],\n",
              "          ...,\n",
              "          [0.4745098 , 0.64705884, 0.9019608 ],\n",
              "          [0.47843137, 0.6431373 , 0.8784314 ],\n",
              "          [0.44705883, 0.6117647 , 0.8392157 ]],\n",
              " \n",
              "         [[0.42352942, 0.6509804 , 0.9372549 ],\n",
              "          [0.47843137, 0.7019608 , 0.972549  ],\n",
              "          [0.42745098, 0.627451  , 0.88235295],\n",
              "          ...,\n",
              "          [0.45490196, 0.6313726 , 0.89411765],\n",
              "          [0.45882353, 0.6313726 , 0.87058824],\n",
              "          [0.43529412, 0.6117647 , 0.84313726]],\n",
              " \n",
              "         [[0.4117647 , 0.64705884, 0.93333334],\n",
              "          [0.47058824, 0.69411767, 0.972549  ],\n",
              "          [0.4392157 , 0.6392157 , 0.89411765],\n",
              "          ...,\n",
              "          [0.45882353, 0.63529414, 0.9019608 ],\n",
              "          [0.45490196, 0.63529414, 0.8784314 ],\n",
              "          [0.4392157 , 0.6156863 , 0.84705883]]],\n",
              " \n",
              " \n",
              "        [[[0.9372549 , 0.8862745 , 0.8509804 ],\n",
              "          [1.        , 0.98039216, 0.93333334],\n",
              "          [0.92156863, 0.8862745 , 0.81960785],\n",
              "          ...,\n",
              "          [0.9372549 , 0.9137255 , 0.92941177],\n",
              "          [0.9764706 , 0.9137255 , 0.95686275],\n",
              "          [1.        , 0.9254902 , 0.9843137 ]],\n",
              " \n",
              "         [[1.        , 0.9882353 , 0.9647059 ],\n",
              "          [0.88235295, 0.8509804 , 0.80784315],\n",
              "          [1.        , 1.        , 0.92941177],\n",
              "          ...,\n",
              "          [0.9137255 , 0.8901961 , 0.8980392 ],\n",
              "          [0.9254902 , 0.8784314 , 0.89411765],\n",
              "          [0.94509804, 0.8784314 , 0.9019608 ]],\n",
              " \n",
              "         [[0.87058824, 0.8352941 , 0.8392157 ],\n",
              "          [0.91764706, 0.9019608 , 0.8666667 ],\n",
              "          [0.7607843 , 0.75686276, 0.6784314 ],\n",
              "          ...,\n",
              "          [0.9490196 , 0.93333334, 0.92156863],\n",
              "          [0.9607843 , 0.9254902 , 0.90588236],\n",
              "          [0.90588236, 0.85490197, 0.83137256]],\n",
              " \n",
              "         ...,\n",
              " \n",
              "         [[0.4392157 , 0.4117647 , 0.34117648],\n",
              "          [0.4862745 , 0.46666667, 0.3882353 ],\n",
              "          [0.30588236, 0.29803923, 0.20784314],\n",
              "          ...,\n",
              "          [0.6862745 , 0.6901961 , 0.7058824 ],\n",
              "          [0.6901961 , 0.6901961 , 0.68235296],\n",
              "          [0.7607843 , 0.7647059 , 0.7411765 ]],\n",
              " \n",
              "         [[0.61960787, 0.5647059 , 0.6156863 ],\n",
              "          [0.60784316, 0.5647059 , 0.5882353 ],\n",
              "          [0.57254905, 0.5411765 , 0.5294118 ],\n",
              "          ...,\n",
              "          [0.78431374, 0.75686276, 0.78431374],\n",
              "          [0.7764706 , 0.7372549 , 0.76862746],\n",
              "          [0.79607844, 0.75686276, 0.7882353 ]],\n",
              " \n",
              "         [[0.59607846, 0.52156866, 0.69803923],\n",
              "          [0.61960787, 0.5529412 , 0.69411767],\n",
              "          [0.62352943, 0.5686275 , 0.65882355],\n",
              "          ...,\n",
              "          [0.8       , 0.7529412 , 0.7921569 ],\n",
              "          [0.8235294 , 0.76862746, 0.81960785],\n",
              "          [0.7882353 , 0.73333335, 0.78431374]]],\n",
              " \n",
              " \n",
              "        ...,\n",
              " \n",
              " \n",
              "        [[[1.        , 0.972549  , 1.        ],\n",
              "          [1.        , 0.972549  , 1.        ],\n",
              "          [1.        , 0.98039216, 1.        ],\n",
              "          ...,\n",
              "          [0.9607843 , 0.9529412 , 1.        ],\n",
              "          [0.9843137 , 0.9647059 , 1.        ],\n",
              "          [0.99215686, 0.972549  , 1.        ]],\n",
              " \n",
              "         [[1.        , 0.9764706 , 1.        ],\n",
              "          [0.9647059 , 0.92156863, 0.9843137 ],\n",
              "          [1.        , 0.9882353 , 1.        ],\n",
              "          ...,\n",
              "          [0.9882353 , 0.98039216, 1.        ],\n",
              "          [0.9490196 , 0.9411765 , 0.99215686],\n",
              "          [0.9607843 , 0.94509804, 1.        ]],\n",
              " \n",
              "         [[0.99607843, 0.972549  , 0.9882353 ],\n",
              "          [1.        , 0.99215686, 1.        ],\n",
              "          [1.        , 0.99607843, 1.        ],\n",
              "          ...,\n",
              "          [0.9882353 , 0.9843137 , 1.        ],\n",
              "          [0.99215686, 0.99215686, 1.        ],\n",
              "          [0.94509804, 0.94509804, 0.9529412 ]],\n",
              " \n",
              "         ...,\n",
              " \n",
              "         [[0.9254902 , 0.89411765, 0.8509804 ],\n",
              "          [0.94509804, 0.9098039 , 0.8745098 ],\n",
              "          [0.9490196 , 0.92156863, 0.8980392 ],\n",
              "          ...,\n",
              "          [0.90588236, 0.9137255 , 0.83137256],\n",
              "          [0.9019608 , 0.9019608 , 0.8       ],\n",
              "          [0.8901961 , 0.8862745 , 0.7764706 ]],\n",
              " \n",
              "         [[0.92941177, 0.8862745 , 0.87058824],\n",
              "          [0.9529412 , 0.9098039 , 0.89411765],\n",
              "          [0.94509804, 0.9098039 , 0.8901961 ],\n",
              "          ...,\n",
              "          [0.8901961 , 0.8901961 , 0.8509804 ],\n",
              "          [0.9137255 , 0.89411765, 0.8784314 ],\n",
              "          [0.9019608 , 0.88235295, 0.87058824]],\n",
              " \n",
              "         [[0.9529412 , 0.8980392 , 0.8980392 ],\n",
              "          [0.92941177, 0.8862745 , 0.8784314 ],\n",
              "          [0.9098039 , 0.8745098 , 0.85490197],\n",
              "          ...,\n",
              "          [0.9098039 , 0.8901961 , 0.9137255 ],\n",
              "          [0.84313726, 0.8117647 , 0.87058824],\n",
              "          [0.92156863, 0.8862745 , 0.9607843 ]]],\n",
              " \n",
              " \n",
              "        [[[0.28627452, 0.44705883, 0.6509804 ],\n",
              "          [0.29803923, 0.45882353, 0.6627451 ],\n",
              "          [0.30980393, 0.47058824, 0.6745098 ],\n",
              "          ...,\n",
              "          [0.08235294, 0.1764706 , 0.27058825],\n",
              "          [0.04313726, 0.14117648, 0.22745098],\n",
              "          [0.03137255, 0.11764706, 0.20784314]],\n",
              " \n",
              "         [[0.2901961 , 0.4509804 , 0.654902  ],\n",
              "          [0.3019608 , 0.4627451 , 0.6666667 ],\n",
              "          [0.3137255 , 0.4745098 , 0.6784314 ],\n",
              "          ...,\n",
              "          [0.07843138, 0.17254902, 0.26666668],\n",
              "          [0.05098039, 0.13725491, 0.22745098],\n",
              "          [0.03529412, 0.12156863, 0.21176471]],\n",
              " \n",
              "         [[0.3019608 , 0.4627451 , 0.6666667 ],\n",
              "          [0.30980393, 0.47058824, 0.6745098 ],\n",
              "          [0.32156864, 0.47843137, 0.68235296],\n",
              "          ...,\n",
              "          [0.07058824, 0.16470589, 0.25882354],\n",
              "          [0.05098039, 0.13725491, 0.22745098],\n",
              "          [0.03921569, 0.1254902 , 0.21568628]],\n",
              " \n",
              "         ...,\n",
              " \n",
              "         [[0.09411765, 0.14117648, 0.23529412],\n",
              "          [0.09019608, 0.13725491, 0.23137255],\n",
              "          [0.08627451, 0.13333334, 0.22745098],\n",
              "          ...,\n",
              "          [0.30980393, 0.34509805, 0.3647059 ],\n",
              "          [0.3764706 , 0.4117647 , 0.43137255],\n",
              "          [0.42352942, 0.4627451 , 0.47058824]],\n",
              " \n",
              "         [[0.09803922, 0.14509805, 0.23137255],\n",
              "          [0.10196079, 0.14901961, 0.23529412],\n",
              "          [0.10588235, 0.15294118, 0.23921569],\n",
              "          ...,\n",
              "          [0.3137255 , 0.34901962, 0.36862746],\n",
              "          [0.39215687, 0.43137255, 0.4392157 ],\n",
              "          [0.44313726, 0.48235294, 0.49019608]],\n",
              " \n",
              "         [[0.08627451, 0.13333334, 0.21960784],\n",
              "          [0.09411765, 0.14117648, 0.22745098],\n",
              "          [0.10588235, 0.15294118, 0.23921569],\n",
              "          ...,\n",
              "          [0.3137255 , 0.3529412 , 0.36078432],\n",
              "          [0.4       , 0.4392157 , 0.44705883],\n",
              "          [0.45490196, 0.49411765, 0.5019608 ]]],\n",
              " \n",
              " \n",
              "        [[[0.53333336, 0.54901963, 0.3529412 ],\n",
              "          [0.4       , 0.41960785, 0.2       ],\n",
              "          [0.43529412, 0.4627451 , 0.2       ],\n",
              "          ...,\n",
              "          [0.7529412 , 0.7647059 , 0.72156864],\n",
              "          [0.827451  , 0.8509804 , 0.8117647 ],\n",
              "          [0.8980392 , 0.91764706, 0.8901961 ]],\n",
              " \n",
              "         [[0.49803922, 0.50980395, 0.34117648],\n",
              "          [0.5058824 , 0.5176471 , 0.34117648],\n",
              "          [0.48235294, 0.50980395, 0.30980393],\n",
              "          ...,\n",
              "          [0.83137256, 0.85490197, 0.8156863 ],\n",
              "          [0.87058824, 0.8901961 , 0.8627451 ],\n",
              "          [0.88235295, 0.9019608 , 0.8784314 ]],\n",
              " \n",
              "         [[0.4627451 , 0.47058824, 0.31764707],\n",
              "          [0.5647059 , 0.5803922 , 0.43529412],\n",
              "          [0.41568628, 0.43137255, 0.3019608 ],\n",
              "          ...,\n",
              "          [0.83137256, 0.8509804 , 0.8352941 ],\n",
              "          [0.8745098 , 0.88235295, 0.87058824],\n",
              "          [0.89411765, 0.9019608 , 0.8901961 ]],\n",
              " \n",
              "         ...,\n",
              " \n",
              "         [[0.13333334, 0.07450981, 0.09411765],\n",
              "          [0.16862746, 0.12156863, 0.13725491],\n",
              "          [0.10196079, 0.05882353, 0.07450981],\n",
              "          ...,\n",
              "          [0.21960784, 0.22352941, 0.16862746],\n",
              "          [0.15294118, 0.1254902 , 0.15294118],\n",
              "          [0.15686275, 0.10980392, 0.19607843]],\n",
              " \n",
              "         [[0.1764706 , 0.10980392, 0.13333334],\n",
              "          [0.20392157, 0.14509805, 0.15686275],\n",
              "          [0.18039216, 0.13333334, 0.13333334],\n",
              "          ...,\n",
              "          [0.13725491, 0.13333334, 0.0627451 ],\n",
              "          [0.2627451 , 0.22352941, 0.25490198],\n",
              "          [0.16470589, 0.10196079, 0.21568628]],\n",
              " \n",
              "         [[0.15294118, 0.08627451, 0.10980392],\n",
              "          [0.1764706 , 0.11764706, 0.12941177],\n",
              "          [0.18431373, 0.12941177, 0.1254902 ],\n",
              "          ...,\n",
              "          [0.19607843, 0.18431373, 0.10980392],\n",
              "          [0.13333334, 0.08627451, 0.1254902 ],\n",
              "          [0.18039216, 0.10588235, 0.23137255]]]], dtype=float32),\n",
              " array(['sign30.jpg', 'sign20.jpg', 'sign_въезд_запрещён.jpg',\n",
              "        'sign_no_drive.jpg', 'sign_humans.jpg', 'sign_right_straight.jpg',\n",
              "        'sign_опасные_повороты.jpg', 'sign80.jpg',\n",
              "        'sign_уступите_road2.jpg', 'sign_обгон_запрещен.jpg',\n",
              "        'sign_крутой_поворот_право.jpg', 'sign_круговое_движение.jpg',\n",
              "        'sign_stop.jpg', 'sign_left.jpg'], dtype='<U30'))"
            ]
          },
          "metadata": {
            "tags": []
          },
          "execution_count": 144
        }
      ]
    },
    {
      "cell_type": "code",
      "metadata": {
        "id": "CNsMabEvts1a",
        "colab_type": "code",
        "outputId": "e6e06118-b8f0-40f4-8fa9-dff6137318c8",
        "colab": {
          "base_uri": "https://localhost:8080/",
          "height": 200
        }
      },
      "source": [
        "cv2.drawContours(img, contours, -1, (255,0,0), 3, cv2.LINE_AA, keke, 1)\n",
        "plt.imshow(img)"
      ],
      "execution_count": 0,
      "outputs": [
        {
          "output_type": "error",
          "ename": "error",
          "evalue": "ignored",
          "traceback": [
            "\u001b[0;31m---------------------------------------------------------------------------\u001b[0m",
            "\u001b[0;31merror\u001b[0m                                     Traceback (most recent call last)",
            "\u001b[0;32m<ipython-input-118-0a59617c1808>\u001b[0m in \u001b[0;36m<module>\u001b[0;34m()\u001b[0m\n\u001b[0;32m----> 1\u001b[0;31m \u001b[0mcv2\u001b[0m\u001b[0;34m.\u001b[0m\u001b[0mdrawContours\u001b[0m\u001b[0;34m(\u001b[0m\u001b[0mimg\u001b[0m\u001b[0;34m,\u001b[0m \u001b[0mcontours\u001b[0m\u001b[0;34m,\u001b[0m \u001b[0;34m-\u001b[0m\u001b[0;36m1\u001b[0m\u001b[0;34m,\u001b[0m \u001b[0;34m(\u001b[0m\u001b[0;36m255\u001b[0m\u001b[0;34m,\u001b[0m\u001b[0;36m0\u001b[0m\u001b[0;34m,\u001b[0m\u001b[0;36m0\u001b[0m\u001b[0;34m)\u001b[0m\u001b[0;34m,\u001b[0m \u001b[0;36m3\u001b[0m\u001b[0;34m,\u001b[0m \u001b[0mcv2\u001b[0m\u001b[0;34m.\u001b[0m\u001b[0mLINE_AA\u001b[0m\u001b[0;34m,\u001b[0m \u001b[0mkeke\u001b[0m\u001b[0;34m,\u001b[0m \u001b[0;36m1\u001b[0m\u001b[0;34m)\u001b[0m\u001b[0;34m\u001b[0m\u001b[0;34m\u001b[0m\u001b[0m\n\u001b[0m\u001b[1;32m      2\u001b[0m \u001b[0mplt\u001b[0m\u001b[0;34m.\u001b[0m\u001b[0mimshow\u001b[0m\u001b[0;34m(\u001b[0m\u001b[0mimg\u001b[0m\u001b[0;34m)\u001b[0m\u001b[0;34m\u001b[0m\u001b[0;34m\u001b[0m\u001b[0m\n",
            "\u001b[0;31merror\u001b[0m: OpenCV(4.1.2) /io/opencv/modules/imgproc/src/drawing.cpp:2523: error: (-215:Assertion failed) hierarchy.total() == ncontours && hierarchy.type() == CV_32SC4 in function 'drawContours'\n"
          ]
        }
      ]
    },
    {
      "cell_type": "code",
      "metadata": {
        "id": "Om3U64dqRcKt",
        "colab_type": "code",
        "colab": {}
      },
      "source": [
        "class RoadSignClassification:\n",
        "  X_train = []\n",
        "  y_train = []    \n",
        "  X_predict = []\n",
        "  names_of_images = []\n",
        "\n",
        "  def __init__(self):\n",
        "    self.__EPOCHS_COUNT = 55\n",
        "    self.__BATCH_SIZE = 200\n",
        "    self.__KERNEL = (3, 3)\n",
        "    self.__model = None\n",
        "    self.__X_test = []\n",
        "    self.__y_test = []\n",
        "    self.__history = []\n",
        "    self.__names_classes = ['Ограничение скорости (20)','Ограничение скорости (30)','Ограничение скорости (50)',\n",
        "                 'Ограничение скорости (60)','Ограничение скорости (70)','Ограничение скорости (80)',\n",
        "                 'Ограничение скорости (100)','Ограничение скорости (120)','Обгон запрещён',\n",
        "                 'Главная дорога','Уступите дорогу','STOP','Движение запрещено','Въезд запрещён',\n",
        "                 'Крутой поворот налево','Крутой поворот направо','Опасные повороты','Неровная дорога',\n",
        "                 'Скользкая дорога','Сужение дороги справа','Ремонт дороги','','Осторожно, пешеходы',\n",
        "                 'Отмена всех ограничений','Поворот только направо','Поворот только налево','Движение только прямо',\n",
        "                 'Движение прямо и направо','Движение прямо и налево','Круговое движение']\n",
        "\n",
        "  @property\n",
        "  def EPOCHS_COUNT(self):\n",
        "    return self.__EPOCHS_COUNT\n",
        "\n",
        "  @EPOCHS_COUNT.setter\n",
        "  def EPOCHS_COUNT(self, count):\n",
        "    if (count > 0):\n",
        "      self.__EPOCHS_COUNT = count\n",
        "\n",
        "  @property\n",
        "  def BATCH_SIZE(self):\n",
        "    return self.__BATCH_SIZE\n",
        "\n",
        "  @BATCH_SIZE.setter\n",
        "  def BATCH_SIZE(self, size):\n",
        "    if (size > 0):\n",
        "      self.__BATCH_SIZE = size\n",
        "\n",
        "  def get_model(self):\n",
        "    model = Sequential() # Создание модели\n",
        "    model.add(Conv2D(32, self.__KERNEL, input_shape = (IMG_SIZE, IMG_SIZE, 3), padding = 'same', activation = 'relu'))\n",
        "    \n",
        "    model.add(MaxPooling2D(pool_size = (2, 2)))\n",
        "    model.add(Dropout(0.2))\n",
        "    \n",
        "    model.add(Conv2D(64, self.__KERNEL, padding = 'same', activation = 'relu'))\n",
        "\n",
        "    model.add(MaxPooling2D(pool_size = (2, 2)))\n",
        "    model.add(Dropout(0.2))\n",
        "    \n",
        "    model.add(Conv2D(128, self.__KERNEL, padding = 'same', activation = 'relu'))\n",
        "    \n",
        "    model.add(MaxPooling2D(pool_size = (2, 2)))\n",
        "    model.add(Dropout(0.2))\n",
        "    \n",
        "    model.add(Flatten())\n",
        "\n",
        "    model.add(Dense(1024, activation = 'relu'))\n",
        "    model.add(Dropout(0.5))\n",
        "\n",
        "    model.add(Dense(CLASSES_COUNT, activation = 'softmax'))\n",
        "\n",
        "    model.compile(loss = 'categorical_crossentropy', optimizer = 'adam', metrics=['accuracy'])\n",
        "  \n",
        "    return model\n",
        "\n",
        "  # обучаем модель\n",
        "  def fit_model(self, X_train = [], y_train = [], retrain = False):\n",
        "    if int(retrain) == 0:\n",
        "      self.__model = None\n",
        "      self.__model = self.get_model()\n",
        "      \n",
        "    if (len(X_train) == 0):\n",
        "      X_train = self.X_train\n",
        "      y_train = self.y_train\n",
        "\n",
        "    self.__history = self.__model.fit(X_train, y_train, epochs = self.__EPOCHS_COUNT, batch_size = self.__BATCH_SIZE, validation_split = 0.2,\n",
        "         callbacks = [ModelCheckpoint('drive/My Drive/Models/modelBest_december.h5', save_best_only = True)]) \n",
        "    \n",
        "    return self.__history\n",
        "\n",
        "  # кроссвалидация\n",
        "  def cross_valid(self, X_train, y_train):\n",
        "    models_histories = []\n",
        "    n_folds = 10\n",
        "    scores = []\n",
        "\n",
        "    kf = model_selection.KFold(n_splits = n_folds) # Разбиение на 10 непересекающихся частей\n",
        "\n",
        "    for train, test in kf.split(X_train, y_train):# В train, test - индексы элементов для обучения и теста соответственно\n",
        "      models_histories.append(self.fit_model(X_train[train], y_train[train]))# Обучение на тренировочных данных\n",
        "      scores.append(self.evaluate(X_train[test], y_train[test]))# Тестирование полученной модели\n",
        "      self.test_model(X_train[test], y_train[test])\n",
        "\n",
        "    print(scores)\n",
        "    print(\"Средняя точность: {}\".format(np.mean(scores)))\n",
        "\n",
        "  def evaluate(self, X_test, y_test):\n",
        "    score = self.__model.evaluate(X_test, y_test, batch_size = self.__BATCH_SIZE)\n",
        "\n",
        "    print(u'Оценка точности модели: {}'.format(score[1]))\n",
        "\n",
        "    return score[1]\n",
        "\n",
        "  # тестируем сеть на тестовых изображениях из базы\n",
        "  def test_model(self, X_test, y_test):\n",
        "    self.__model = load_model('drive/My Drive/Models/modelBest03_11(11).h5')#modelBest03_11(11)\n",
        "    self.__model.compile(loss = 'categorical_crossentropy', optimizer = 'adam', metrics = ['accuracy'])\n",
        "\n",
        "    prediction = self.__model.predict_classes(X_test)\n",
        "\n",
        "    # y_test = y_test.tolist()\n",
        "    # y_test_ = []\n",
        "    # for i in range(len(y_test)):\n",
        "    #   y_test_.append(y_test[i].index(1))\n",
        "\n",
        "    print(\"test_model: {}\".format(np.sum(prediction == y_test) / np.size(prediction)))\n",
        "\n",
        "    self.reports(prediction, y_test)\n",
        "\n",
        "  # подготавливаем изображения для теста\n",
        "  def prepocess_test_images(self):\n",
        "    localization = RoadSignLocalization()\n",
        "    self.__X_test, self.__y_test = localization.get_all_test_images_()\n",
        "\n",
        "  # получаем ранее обученную модель  \n",
        "  def get_trained_model(self):\n",
        "    self.__model = load_model('drive/My Drive/Models/modelBest_december.h5')#modelBest03_11(11)\n",
        "    self.__model.compile(loss = 'categorical_crossentropy', optimizer = 'adam', metrics = ['accuracy'])\n",
        "    return model\n",
        "\n",
        "  # предсказываем классы знаков на своих изображениях\n",
        "  def predict_classes(self):\n",
        "    #self.prepocess_images_for_predict()\n",
        "\n",
        "    if (self.__model != None):\n",
        "      self.__model = self.get_trained_model()\n",
        "\n",
        "    prediction = self.__model.predict_classes(X_predict)\n",
        "\n",
        "    for i in range(X_predict.shape[0]):\n",
        "      print(\"Изображение '{}' содержит знак - {}\".format(names_of_images[i], names_classes[prediction[i]]))\n",
        "\n",
        "  # подготавливаем изображения для предсказания классов\n",
        "  #def prepocess_images_for_predict(self):\n",
        "  def reports(self, prediction, y_test):\n",
        "    print(classification_report(y_test, prediction, target_names = self.__names_classes))\n",
        "\n",
        "    prediction_ = self.transform_from_categorical(prediction)\n",
        "    y_test_ = self.transform_from_categorical(np.array(y_test))\n",
        "\n",
        "    data = {'prediction': prediction_,\n",
        "        'actual':    y_test_\n",
        "        }\n",
        "\n",
        "    df = pd.DataFrame(data, columns = ['actual','prediction'])\n",
        "    confusion_matrix = pd.crosstab(df['actual'], df['prediction'], rownames = ['Actual'], colnames = ['Predicted'])\n",
        "    plt.figure(figsize=(30, 10))\n",
        "    sn.heatmap(confusion_matrix, annot=True,cmap=\"Greys\")\n",
        "    #sn.heatmap(confusion_matrix, annot = True)\n",
        "    plt.savefig('drive/My Drive/Models/matrix.jpg')\n",
        "\n",
        "  # Преобразование номеров классов в названия классов\n",
        "  def transform_from_categorical(self, prediction):\n",
        "    answers = []\n",
        "\n",
        "    for i in range(prediction.shape[0]):\n",
        "      answers.append(self.__names_classes[prediction[i]])\n",
        "\n",
        "    return answers"
      ],
      "execution_count": 0,
      "outputs": []
    },
    {
      "cell_type": "code",
      "metadata": {
        "id": "XboSNRWVZpof",
        "colab_type": "code",
        "colab": {}
      },
      "source": [
        "classification = RoadSignClassification()"
      ],
      "execution_count": 0,
      "outputs": []
    },
    {
      "cell_type": "code",
      "metadata": {
        "id": "Gn-YatUjjNmA",
        "colab_type": "code",
        "colab": {
          "base_uri": "https://localhost:8080/",
          "height": 763
        },
        "outputId": "a6dcff85-248a-4554-a19f-6d9f996ac31e"
      },
      "source": [
        "classification.test_model(X_test, y_test)"
      ],
      "execution_count": 113,
      "outputs": [
        {
          "output_type": "stream",
          "text": [
            "test_model: 0.9777056277056277\n"
          ],
          "name": "stdout"
        },
        {
          "output_type": "display_data",
          "data": {
            "image/png": "[encoded data removed]",
            "text/plain": [
              "<Figure size 2160x720 with 2 Axes>"
            ]
          },
          "metadata": {
            "tags": []
          }
        }
      ]
    },
    {
      "cell_type": "code",
      "metadata": {
        "id": "Vqu3gfzF9YCV",
        "colab_type": "code",
        "outputId": "6f93a139-8d82-485e-ba69-f04099e4dec9",
        "colab": {
          "base_uri": "https://localhost:8080/",
          "height": 1000
        }
      },
      "source": [
        "classification.cross_valid(X_train_, y_train_)"
      ],
      "execution_count": 250,
      "outputs": [
        {
          "output_type": "stream",
          "text": [
            "Train on 20800 samples, validate on 5200 samples\n",
            "Epoch 1/55\n",
            "20800/20800 [==============================] - 27s 1ms/step - loss: 2.5459 - acc: 0.2411 - val_loss: 1.7441 - val_acc: 0.4515\n",
            "Epoch 2/55\n",
            "20800/20800 [==============================] - 4s 183us/step - loss: 1.4841 - acc: 0.5162 - val_loss: 1.1205 - val_acc: 0.6515\n",
            "Epoch 3/55\n",
            "20800/20800 [==============================] - 4s 180us/step - loss: 1.0162 - acc: 0.6676 - val_loss: 0.7403 - val_acc: 0.7692\n",
            "Epoch 4/55\n",
            "20800/20800 [==============================] - 4s 180us/step - loss: 0.7393 - acc: 0.7613 - val_loss: 0.5784 - val_acc: 0.8192\n",
            "Epoch 5/55\n",
            "20800/20800 [==============================] - 4s 180us/step - loss: 0.5707 - acc: 0.8199 - val_loss: 0.4596 - val_acc: 0.8583\n",
            "Epoch 6/55\n",
            "20800/20800 [==============================] - 4s 180us/step - loss: 0.4582 - acc: 0.8560 - val_loss: 0.4010 - val_acc: 0.8815\n",
            "Epoch 7/55\n",
            "20800/20800 [==============================] - 4s 180us/step - loss: 0.3834 - acc: 0.8787 - val_loss: 0.3406 - val_acc: 0.9021\n",
            "Epoch 8/55\n",
            "20800/20800 [==============================] - 4s 179us/step - loss: 0.3144 - acc: 0.8992 - val_loss: 0.3050 - val_acc: 0.9092\n",
            "Epoch 9/55\n",
            "20800/20800 [==============================] - 4s 181us/step - loss: 0.2775 - acc: 0.9116 - val_loss: 0.2743 - val_acc: 0.9202\n",
            "Epoch 10/55\n",
            "20800/20800 [==============================] - 4s 181us/step - loss: 0.2361 - acc: 0.9232 - val_loss: 0.2754 - val_acc: 0.9200\n",
            "Epoch 11/55\n",
            "20800/20800 [==============================] - 4s 181us/step - loss: 0.2084 - acc: 0.9322 - val_loss: 0.2625 - val_acc: 0.9258\n",
            "Epoch 12/55\n",
            "20800/20800 [==============================] - 4s 179us/step - loss: 0.1886 - acc: 0.9383 - val_loss: 0.2395 - val_acc: 0.9365\n",
            "Epoch 13/55\n",
            "20800/20800 [==============================] - 4s 180us/step - loss: 0.1750 - acc: 0.9421 - val_loss: 0.2414 - val_acc: 0.9296\n",
            "Epoch 14/55\n",
            "20800/20800 [==============================] - 4s 180us/step - loss: 0.1519 - acc: 0.9510 - val_loss: 0.2297 - val_acc: 0.9371\n",
            "Epoch 15/55\n",
            "20800/20800 [==============================] - 4s 181us/step - loss: 0.1416 - acc: 0.9532 - val_loss: 0.2632 - val_acc: 0.9269\n",
            "Epoch 16/55\n",
            "20800/20800 [==============================] - 4s 179us/step - loss: 0.1309 - acc: 0.9575 - val_loss: 0.2440 - val_acc: 0.9350\n",
            "Epoch 17/55\n",
            "20800/20800 [==============================] - 4s 179us/step - loss: 0.1189 - acc: 0.9611 - val_loss: 0.2237 - val_acc: 0.9360\n",
            "Epoch 18/55\n",
            "20800/20800 [==============================] - 4s 178us/step - loss: 0.1137 - acc: 0.9638 - val_loss: 0.2308 - val_acc: 0.9379\n",
            "Epoch 19/55\n",
            "20800/20800 [==============================] - 4s 177us/step - loss: 0.1059 - acc: 0.9668 - val_loss: 0.2190 - val_acc: 0.9400\n",
            "Epoch 20/55\n",
            "20800/20800 [==============================] - 4s 177us/step - loss: 0.0954 - acc: 0.9690 - val_loss: 0.2453 - val_acc: 0.9377\n",
            "Epoch 21/55\n",
            "20800/20800 [==============================] - 4s 178us/step - loss: 0.0893 - acc: 0.9710 - val_loss: 0.2336 - val_acc: 0.9392\n",
            "Epoch 22/55\n",
            "20800/20800 [==============================] - 4s 179us/step - loss: 0.0871 - acc: 0.9713 - val_loss: 0.2434 - val_acc: 0.9360\n",
            "Epoch 23/55\n",
            "20800/20800 [==============================] - 4s 177us/step - loss: 0.0851 - acc: 0.9738 - val_loss: 0.2273 - val_acc: 0.9396\n",
            "Epoch 24/55\n",
            "20800/20800 [==============================] - 4s 177us/step - loss: 0.0736 - acc: 0.9765 - val_loss: 0.2508 - val_acc: 0.9379\n",
            "Epoch 25/55\n",
            "20800/20800 [==============================] - 4s 178us/step - loss: 0.0739 - acc: 0.9761 - val_loss: 0.2447 - val_acc: 0.9377\n",
            "Epoch 26/55\n",
            "20800/20800 [==============================] - 4s 177us/step - loss: 0.0689 - acc: 0.9780 - val_loss: 0.2406 - val_acc: 0.9365\n",
            "Epoch 27/55\n",
            "20800/20800 [==============================] - 4s 178us/step - loss: 0.0709 - acc: 0.9763 - val_loss: 0.2315 - val_acc: 0.9427\n",
            "Epoch 28/55\n",
            "20800/20800 [==============================] - 4s 177us/step - loss: 0.0657 - acc: 0.9787 - val_loss: 0.2273 - val_acc: 0.9419\n",
            "Epoch 29/55\n",
            "20800/20800 [==============================] - 4s 178us/step - loss: 0.0611 - acc: 0.9810 - val_loss: 0.2418 - val_acc: 0.9417\n",
            "Epoch 30/55\n",
            "20800/20800 [==============================] - 4s 177us/step - loss: 0.0563 - acc: 0.9824 - val_loss: 0.2520 - val_acc: 0.9381\n",
            "Epoch 31/55\n",
            "20800/20800 [==============================] - 4s 178us/step - loss: 0.0588 - acc: 0.9806 - val_loss: 0.2420 - val_acc: 0.9454\n",
            "Epoch 32/55\n",
            "20800/20800 [==============================] - 4s 178us/step - loss: 0.0530 - acc: 0.9828 - val_loss: 0.2509 - val_acc: 0.9410\n",
            "Epoch 33/55\n",
            "20800/20800 [==============================] - 4s 192us/step - loss: 0.0546 - acc: 0.9824 - val_loss: 0.2466 - val_acc: 0.9398\n",
            "Epoch 34/55\n",
            "20800/20800 [==============================] - 4s 180us/step - loss: 0.0495 - acc: 0.9846 - val_loss: 0.2341 - val_acc: 0.9456\n",
            "Epoch 35/55\n",
            "20800/20800 [==============================] - 4s 183us/step - loss: 0.0516 - acc: 0.9835 - val_loss: 0.2525 - val_acc: 0.9425\n",
            "Epoch 36/55\n",
            "20800/20800 [==============================] - 4s 180us/step - loss: 0.0524 - acc: 0.9827 - val_loss: 0.2456 - val_acc: 0.9446\n",
            "Epoch 37/55\n",
            "20800/20800 [==============================] - 4s 181us/step - loss: 0.0484 - acc: 0.9846 - val_loss: 0.2378 - val_acc: 0.9421\n",
            "Epoch 38/55\n",
            "20800/20800 [==============================] - 4s 183us/step - loss: 0.0436 - acc: 0.9866 - val_loss: 0.2403 - val_acc: 0.9475\n",
            "Epoch 39/55\n",
            "20800/20800 [==============================] - 4s 179us/step - loss: 0.0458 - acc: 0.9845 - val_loss: 0.2432 - val_acc: 0.9423\n",
            "Epoch 40/55\n",
            "20800/20800 [==============================] - 4s 182us/step - loss: 0.0429 - acc: 0.9863 - val_loss: 0.2625 - val_acc: 0.9429\n",
            "Epoch 41/55\n",
            "20800/20800 [==============================] - 4s 181us/step - loss: 0.0453 - acc: 0.9856 - val_loss: 0.2530 - val_acc: 0.9435\n",
            "Epoch 42/55\n",
            "20800/20800 [==============================] - 4s 181us/step - loss: 0.0433 - acc: 0.9851 - val_loss: 0.2782 - val_acc: 0.9375\n",
            "Epoch 43/55\n",
            "20800/20800 [==============================] - 4s 181us/step - loss: 0.0460 - acc: 0.9858 - val_loss: 0.2591 - val_acc: 0.9444\n",
            "Epoch 44/55\n",
            "20800/20800 [==============================] - 4s 180us/step - loss: 0.0380 - acc: 0.9881 - val_loss: 0.2575 - val_acc: 0.9465\n",
            "Epoch 45/55\n",
            "20800/20800 [==============================] - 4s 181us/step - loss: 0.0371 - acc: 0.9883 - val_loss: 0.2498 - val_acc: 0.9465\n",
            "Epoch 46/55\n",
            "20800/20800 [==============================] - 4s 181us/step - loss: 0.0419 - acc: 0.9866 - val_loss: 0.2559 - val_acc: 0.9456\n",
            "Epoch 47/55\n",
            "20800/20800 [==============================] - 4s 180us/step - loss: 0.0444 - acc: 0.9859 - val_loss: 0.2502 - val_acc: 0.9460\n",
            "Epoch 48/55\n",
            "20800/20800 [==============================] - 4s 180us/step - loss: 0.0408 - acc: 0.9869 - val_loss: 0.2437 - val_acc: 0.9456\n",
            "Epoch 49/55\n",
            "20800/20800 [==============================] - 4s 183us/step - loss: 0.0348 - acc: 0.9892 - val_loss: 0.2715 - val_acc: 0.9438\n",
            "Epoch 50/55\n",
            "20800/20800 [==============================] - 4s 180us/step - loss: 0.0380 - acc: 0.9871 - val_loss: 0.2742 - val_acc: 0.9448\n",
            "Epoch 51/55\n",
            "20800/20800 [==============================] - 4s 184us/step - loss: 0.0363 - acc: 0.9888 - val_loss: 0.2602 - val_acc: 0.9444\n",
            "Epoch 52/55\n",
            "20800/20800 [==============================] - 4s 183us/step - loss: 0.0366 - acc: 0.9885 - val_loss: 0.2619 - val_acc: 0.9456\n",
            "Epoch 53/55\n",
            "20800/20800 [==============================] - 4s 183us/step - loss: 0.0341 - acc: 0.9886 - val_loss: 0.2676 - val_acc: 0.9417\n",
            "Epoch 54/55\n",
            "20800/20800 [==============================] - 4s 182us/step - loss: 0.0325 - acc: 0.9890 - val_loss: 0.2735 - val_acc: 0.9467\n",
            "Epoch 55/55\n",
            "20800/20800 [==============================] - 4s 182us/step - loss: 0.0327 - acc: 0.9901 - val_loss: 0.2670 - val_acc: 0.9440\n",
            "2889/2889 [==============================] - 0s 56us/step\n",
            "Оценка точности модели: 0.9456559250040342\n"
          ],
          "name": "stdout"
        },
        {
          "output_type": "error",
          "ename": "KeyboardInterrupt",
          "evalue": "ignored",
          "traceback": [
            "\u001b[0;31m---------------------------------------------------------------------------\u001b[0m",
            "\u001b[0;31mKeyboardInterrupt\u001b[0m                         Traceback (most recent call last)",
            "\u001b[0;32m<ipython-input-250-5fb10ce5f2b8>\u001b[0m in \u001b[0;36m<module>\u001b[0;34m()\u001b[0m\n\u001b[0;32m----> 1\u001b[0;31m \u001b[0mclassification\u001b[0m\u001b[0;34m.\u001b[0m\u001b[0mcross_valid\u001b[0m\u001b[0;34m(\u001b[0m\u001b[0mX_train_\u001b[0m\u001b[0;34m,\u001b[0m \u001b[0my_train_\u001b[0m\u001b[0;34m)\u001b[0m\u001b[0;34m\u001b[0m\u001b[0;34m\u001b[0m\u001b[0m\n\u001b[0m",
            "\u001b[0;32m<ipython-input-248-48a0caf5fbc5>\u001b[0m in \u001b[0;36mcross_valid\u001b[0;34m(self, X_train, y_train)\u001b[0m\n\u001b[1;32m     86\u001b[0m       \u001b[0mmodels_histories\u001b[0m\u001b[0;34m.\u001b[0m\u001b[0mappend\u001b[0m\u001b[0;34m(\u001b[0m\u001b[0mself\u001b[0m\u001b[0;34m.\u001b[0m\u001b[0mfit_model\u001b[0m\u001b[0;34m(\u001b[0m\u001b[0mX_train\u001b[0m\u001b[0;34m[\u001b[0m\u001b[0mtrain\u001b[0m\u001b[0;34m]\u001b[0m\u001b[0;34m,\u001b[0m \u001b[0my_train\u001b[0m\u001b[0;34m[\u001b[0m\u001b[0mtrain\u001b[0m\u001b[0;34m]\u001b[0m\u001b[0;34m)\u001b[0m\u001b[0;34m)\u001b[0m\u001b[0;31m# Обучение на тренировочных данных\u001b[0m\u001b[0;34m\u001b[0m\u001b[0;34m\u001b[0m\u001b[0m\n\u001b[1;32m     87\u001b[0m       \u001b[0mscores\u001b[0m\u001b[0;34m.\u001b[0m\u001b[0mappend\u001b[0m\u001b[0;34m(\u001b[0m\u001b[0mself\u001b[0m\u001b[0;34m.\u001b[0m\u001b[0mevaluate\u001b[0m\u001b[0;34m(\u001b[0m\u001b[0mX_train\u001b[0m\u001b[0;34m[\u001b[0m\u001b[0mtest\u001b[0m\u001b[0;34m]\u001b[0m\u001b[0;34m,\u001b[0m \u001b[0my_train\u001b[0m\u001b[0;34m[\u001b[0m\u001b[0mtest\u001b[0m\u001b[0;34m]\u001b[0m\u001b[0;34m)\u001b[0m\u001b[0;34m)\u001b[0m\u001b[0;31m# Тестирование полученной модели\u001b[0m\u001b[0;34m\u001b[0m\u001b[0;34m\u001b[0m\u001b[0m\n\u001b[0;32m---> 88\u001b[0;31m       \u001b[0mself\u001b[0m\u001b[0;34m.\u001b[0m\u001b[0mtest_model\u001b[0m\u001b[0;34m(\u001b[0m\u001b[0mX_train\u001b[0m\u001b[0;34m[\u001b[0m\u001b[0mtest\u001b[0m\u001b[0;34m]\u001b[0m\u001b[0;34m,\u001b[0m \u001b[0my_train\u001b[0m\u001b[0;34m[\u001b[0m\u001b[0mtest\u001b[0m\u001b[0;34m]\u001b[0m\u001b[0;34m)\u001b[0m\u001b[0;34m\u001b[0m\u001b[0;34m\u001b[0m\u001b[0m\n\u001b[0m\u001b[1;32m     89\u001b[0m \u001b[0;34m\u001b[0m\u001b[0m\n\u001b[1;32m     90\u001b[0m     \u001b[0mprint\u001b[0m\u001b[0;34m(\u001b[0m\u001b[0mscores\u001b[0m\u001b[0;34m)\u001b[0m\u001b[0;34m\u001b[0m\u001b[0;34m\u001b[0m\u001b[0m\n",
            "\u001b[0;32m<ipython-input-248-48a0caf5fbc5>\u001b[0m in \u001b[0;36mtest_model\u001b[0;34m(self, X_test, y_test)\u001b[0m\n\u001b[1;32m    100\u001b[0m   \u001b[0;31m# тестируем сеть на тестовых изображениях из базы\u001b[0m\u001b[0;34m\u001b[0m\u001b[0;34m\u001b[0m\u001b[0;34m\u001b[0m\u001b[0m\n\u001b[1;32m    101\u001b[0m   \u001b[0;32mdef\u001b[0m \u001b[0mtest_model\u001b[0m\u001b[0;34m(\u001b[0m\u001b[0mself\u001b[0m\u001b[0;34m,\u001b[0m \u001b[0mX_test\u001b[0m\u001b[0;34m,\u001b[0m \u001b[0my_test\u001b[0m\u001b[0;34m)\u001b[0m\u001b[0;34m:\u001b[0m\u001b[0;34m\u001b[0m\u001b[0;34m\u001b[0m\u001b[0m\n\u001b[0;32m--> 102\u001b[0;31m     \u001b[0mprediction\u001b[0m \u001b[0;34m=\u001b[0m \u001b[0mself\u001b[0m\u001b[0;34m.\u001b[0m\u001b[0m__model\u001b[0m\u001b[0;34m.\u001b[0m\u001b[0mpredict_classes\u001b[0m\u001b[0;34m(\u001b[0m\u001b[0mX_test\u001b[0m\u001b[0;34m)\u001b[0m\u001b[0;34m\u001b[0m\u001b[0;34m\u001b[0m\u001b[0m\n\u001b[0m\u001b[1;32m    103\u001b[0m \u001b[0;34m\u001b[0m\u001b[0m\n\u001b[1;32m    104\u001b[0m     \u001b[0my_test\u001b[0m \u001b[0;34m=\u001b[0m \u001b[0my_test\u001b[0m\u001b[0;34m.\u001b[0m\u001b[0mtolist\u001b[0m\u001b[0;34m(\u001b[0m\u001b[0;34m)\u001b[0m\u001b[0;34m\u001b[0m\u001b[0;34m\u001b[0m\u001b[0m\n",
            "\u001b[0;32m/usr/local/lib/python3.6/dist-packages/keras/engine/sequential.py\u001b[0m in \u001b[0;36mpredict_classes\u001b[0;34m(self, x, batch_size, verbose)\u001b[0m\n\u001b[1;32m    266\u001b[0m             \u001b[0mA\u001b[0m \u001b[0mnumpy\u001b[0m \u001b[0marray\u001b[0m \u001b[0mof\u001b[0m \u001b[0;32mclass\u001b[0m \u001b[0mpredictions\u001b[0m\u001b[0;34m.\u001b[0m\u001b[0;34m\u001b[0m\u001b[0;34m\u001b[0m\u001b[0m\n\u001b[1;32m    267\u001b[0m         \"\"\"\n\u001b[0;32m--> 268\u001b[0;31m         \u001b[0mproba\u001b[0m \u001b[0;34m=\u001b[0m \u001b[0mself\u001b[0m\u001b[0;34m.\u001b[0m\u001b[0mpredict\u001b[0m\u001b[0;34m(\u001b[0m\u001b[0mx\u001b[0m\u001b[0;34m,\u001b[0m \u001b[0mbatch_size\u001b[0m\u001b[0;34m=\u001b[0m\u001b[0mbatch_size\u001b[0m\u001b[0;34m,\u001b[0m \u001b[0mverbose\u001b[0m\u001b[0;34m=\u001b[0m\u001b[0mverbose\u001b[0m\u001b[0;34m)\u001b[0m\u001b[0;34m\u001b[0m\u001b[0;34m\u001b[0m\u001b[0m\n\u001b[0m\u001b[1;32m    269\u001b[0m         \u001b[0;32mif\u001b[0m \u001b[0mproba\u001b[0m\u001b[0;34m.\u001b[0m\u001b[0mshape\u001b[0m\u001b[0;34m[\u001b[0m\u001b[0;34m-\u001b[0m\u001b[0;36m1\u001b[0m\u001b[0;34m]\u001b[0m \u001b[0;34m>\u001b[0m \u001b[0;36m1\u001b[0m\u001b[0;34m:\u001b[0m\u001b[0;34m\u001b[0m\u001b[0;34m\u001b[0m\u001b[0m\n\u001b[1;32m    270\u001b[0m             \u001b[0;32mreturn\u001b[0m \u001b[0mproba\u001b[0m\u001b[0;34m.\u001b[0m\u001b[0margmax\u001b[0m\u001b[0;34m(\u001b[0m\u001b[0maxis\u001b[0m\u001b[0;34m=\u001b[0m\u001b[0;34m-\u001b[0m\u001b[0;36m1\u001b[0m\u001b[0;34m)\u001b[0m\u001b[0;34m\u001b[0m\u001b[0;34m\u001b[0m\u001b[0m\n",
            "\u001b[0;32m/usr/local/lib/python3.6/dist-packages/keras/engine/training.py\u001b[0m in \u001b[0;36mpredict\u001b[0;34m(self, x, batch_size, verbose, steps, callbacks, max_queue_size, workers, use_multiprocessing)\u001b[0m\n\u001b[1;32m   1399\u001b[0m                                             \u001b[0mverbose\u001b[0m\u001b[0;34m=\u001b[0m\u001b[0mverbose\u001b[0m\u001b[0;34m,\u001b[0m\u001b[0;34m\u001b[0m\u001b[0;34m\u001b[0m\u001b[0m\n\u001b[1;32m   1400\u001b[0m                                             \u001b[0msteps\u001b[0m\u001b[0;34m=\u001b[0m\u001b[0msteps\u001b[0m\u001b[0;34m,\u001b[0m\u001b[0;34m\u001b[0m\u001b[0;34m\u001b[0m\u001b[0m\n\u001b[0;32m-> 1401\u001b[0;31m                                             callbacks=callbacks)\n\u001b[0m\u001b[1;32m   1402\u001b[0m \u001b[0;34m\u001b[0m\u001b[0m\n\u001b[1;32m   1403\u001b[0m     def train_on_batch(self, x, y,\n",
            "\u001b[0;32m/usr/local/lib/python3.6/dist-packages/keras/engine/training_arrays.py\u001b[0m in \u001b[0;36mpredict_loop\u001b[0;34m(model, f, ins, batch_size, verbose, steps, callbacks)\u001b[0m\n\u001b[1;32m    330\u001b[0m             \u001b[0mbatch_logs\u001b[0m \u001b[0;34m=\u001b[0m \u001b[0;34m{\u001b[0m\u001b[0;34m'batch'\u001b[0m\u001b[0;34m:\u001b[0m \u001b[0mbatch_index\u001b[0m\u001b[0;34m,\u001b[0m \u001b[0;34m'size'\u001b[0m\u001b[0;34m:\u001b[0m \u001b[0mlen\u001b[0m\u001b[0;34m(\u001b[0m\u001b[0mbatch_ids\u001b[0m\u001b[0;34m)\u001b[0m\u001b[0;34m}\u001b[0m\u001b[0;34m\u001b[0m\u001b[0;34m\u001b[0m\u001b[0m\n\u001b[1;32m    331\u001b[0m             \u001b[0mcallbacks\u001b[0m\u001b[0;34m.\u001b[0m\u001b[0m_call_batch_hook\u001b[0m\u001b[0;34m(\u001b[0m\u001b[0;34m'predict'\u001b[0m\u001b[0;34m,\u001b[0m \u001b[0;34m'begin'\u001b[0m\u001b[0;34m,\u001b[0m \u001b[0mbatch_index\u001b[0m\u001b[0;34m,\u001b[0m \u001b[0mbatch_logs\u001b[0m\u001b[0;34m)\u001b[0m\u001b[0;34m\u001b[0m\u001b[0;34m\u001b[0m\u001b[0m\n\u001b[0;32m--> 332\u001b[0;31m             \u001b[0mbatch_outs\u001b[0m \u001b[0;34m=\u001b[0m \u001b[0mf\u001b[0m\u001b[0;34m(\u001b[0m\u001b[0mins_batch\u001b[0m\u001b[0;34m)\u001b[0m\u001b[0;34m\u001b[0m\u001b[0;34m\u001b[0m\u001b[0m\n\u001b[0m\u001b[1;32m    333\u001b[0m             \u001b[0mbatch_outs\u001b[0m \u001b[0;34m=\u001b[0m \u001b[0mto_list\u001b[0m\u001b[0;34m(\u001b[0m\u001b[0mbatch_outs\u001b[0m\u001b[0;34m)\u001b[0m\u001b[0;34m\u001b[0m\u001b[0;34m\u001b[0m\u001b[0m\n\u001b[1;32m    334\u001b[0m             \u001b[0;32mif\u001b[0m \u001b[0mbatch_index\u001b[0m \u001b[0;34m==\u001b[0m \u001b[0;36m0\u001b[0m\u001b[0;34m:\u001b[0m\u001b[0;34m\u001b[0m\u001b[0;34m\u001b[0m\u001b[0m\n",
            "\u001b[0;32m/usr/local/lib/python3.6/dist-packages/keras/backend/tensorflow_backend.py\u001b[0m in \u001b[0;36m__call__\u001b[0;34m(self, inputs)\u001b[0m\n\u001b[1;32m   2977\u001b[0m                     \u001b[0;32mreturn\u001b[0m \u001b[0mself\u001b[0m\u001b[0;34m.\u001b[0m\u001b[0m_legacy_call\u001b[0m\u001b[0;34m(\u001b[0m\u001b[0minputs\u001b[0m\u001b[0;34m)\u001b[0m\u001b[0;34m\u001b[0m\u001b[0;34m\u001b[0m\u001b[0m\n\u001b[1;32m   2978\u001b[0m \u001b[0;34m\u001b[0m\u001b[0m\n\u001b[0;32m-> 2979\u001b[0;31m             \u001b[0;32mreturn\u001b[0m \u001b[0mself\u001b[0m\u001b[0;34m.\u001b[0m\u001b[0m_call\u001b[0m\u001b[0;34m(\u001b[0m\u001b[0minputs\u001b[0m\u001b[0;34m)\u001b[0m\u001b[0;34m\u001b[0m\u001b[0;34m\u001b[0m\u001b[0m\n\u001b[0m\u001b[1;32m   2980\u001b[0m         \u001b[0;32melse\u001b[0m\u001b[0;34m:\u001b[0m\u001b[0;34m\u001b[0m\u001b[0;34m\u001b[0m\u001b[0m\n\u001b[1;32m   2981\u001b[0m             \u001b[0;32mif\u001b[0m \u001b[0mpy_any\u001b[0m\u001b[0;34m(\u001b[0m\u001b[0mis_tensor\u001b[0m\u001b[0;34m(\u001b[0m\u001b[0mx\u001b[0m\u001b[0;34m)\u001b[0m \u001b[0;32mfor\u001b[0m \u001b[0mx\u001b[0m \u001b[0;32min\u001b[0m \u001b[0minputs\u001b[0m\u001b[0;34m)\u001b[0m\u001b[0;34m:\u001b[0m\u001b[0;34m\u001b[0m\u001b[0;34m\u001b[0m\u001b[0m\n",
            "\u001b[0;32m/usr/local/lib/python3.6/dist-packages/keras/backend/tensorflow_backend.py\u001b[0m in \u001b[0;36m_call\u001b[0;34m(self, inputs)\u001b[0m\n\u001b[1;32m   2935\u001b[0m             \u001b[0mfetched\u001b[0m \u001b[0;34m=\u001b[0m \u001b[0mself\u001b[0m\u001b[0;34m.\u001b[0m\u001b[0m_callable_fn\u001b[0m\u001b[0;34m(\u001b[0m\u001b[0;34m*\u001b[0m\u001b[0marray_vals\u001b[0m\u001b[0;34m,\u001b[0m \u001b[0mrun_metadata\u001b[0m\u001b[0;34m=\u001b[0m\u001b[0mself\u001b[0m\u001b[0;34m.\u001b[0m\u001b[0mrun_metadata\u001b[0m\u001b[0;34m)\u001b[0m\u001b[0;34m\u001b[0m\u001b[0;34m\u001b[0m\u001b[0m\n\u001b[1;32m   2936\u001b[0m         \u001b[0;32melse\u001b[0m\u001b[0;34m:\u001b[0m\u001b[0;34m\u001b[0m\u001b[0;34m\u001b[0m\u001b[0m\n\u001b[0;32m-> 2937\u001b[0;31m             \u001b[0mfetched\u001b[0m \u001b[0;34m=\u001b[0m \u001b[0mself\u001b[0m\u001b[0;34m.\u001b[0m\u001b[0m_callable_fn\u001b[0m\u001b[0;34m(\u001b[0m\u001b[0;34m*\u001b[0m\u001b[0marray_vals\u001b[0m\u001b[0;34m)\u001b[0m\u001b[0;34m\u001b[0m\u001b[0;34m\u001b[0m\u001b[0m\n\u001b[0m\u001b[1;32m   2938\u001b[0m         \u001b[0;32mreturn\u001b[0m \u001b[0mfetched\u001b[0m\u001b[0;34m[\u001b[0m\u001b[0;34m:\u001b[0m\u001b[0mlen\u001b[0m\u001b[0;34m(\u001b[0m\u001b[0mself\u001b[0m\u001b[0;34m.\u001b[0m\u001b[0moutputs\u001b[0m\u001b[0;34m)\u001b[0m\u001b[0;34m]\u001b[0m\u001b[0;34m\u001b[0m\u001b[0;34m\u001b[0m\u001b[0m\n\u001b[1;32m   2939\u001b[0m \u001b[0;34m\u001b[0m\u001b[0m\n",
            "\u001b[0;32m/usr/local/lib/python3.6/dist-packages/tensorflow_core/python/client/session.py\u001b[0m in \u001b[0;36m__call__\u001b[0;34m(self, *args, **kwargs)\u001b[0m\n\u001b[1;32m   1470\u001b[0m         ret = tf_session.TF_SessionRunCallable(self._session._session,\n\u001b[1;32m   1471\u001b[0m                                                \u001b[0mself\u001b[0m\u001b[0;34m.\u001b[0m\u001b[0m_handle\u001b[0m\u001b[0;34m,\u001b[0m \u001b[0margs\u001b[0m\u001b[0;34m,\u001b[0m\u001b[0;34m\u001b[0m\u001b[0;34m\u001b[0m\u001b[0m\n\u001b[0;32m-> 1472\u001b[0;31m                                                run_metadata_ptr)\n\u001b[0m\u001b[1;32m   1473\u001b[0m         \u001b[0;32mif\u001b[0m \u001b[0mrun_metadata\u001b[0m\u001b[0;34m:\u001b[0m\u001b[0;34m\u001b[0m\u001b[0;34m\u001b[0m\u001b[0m\n\u001b[1;32m   1474\u001b[0m           \u001b[0mproto_data\u001b[0m \u001b[0;34m=\u001b[0m \u001b[0mtf_session\u001b[0m\u001b[0;34m.\u001b[0m\u001b[0mTF_GetBuffer\u001b[0m\u001b[0;34m(\u001b[0m\u001b[0mrun_metadata_ptr\u001b[0m\u001b[0;34m)\u001b[0m\u001b[0;34m\u001b[0m\u001b[0;34m\u001b[0m\u001b[0m\n",
            "\u001b[0;31mKeyboardInterrupt\u001b[0m: "
          ]
        }
      ]
    },
    {
      "cell_type": "code",
      "metadata": {
        "id": "SIf5fB4EPPq6",
        "colab_type": "code",
        "colab": {}
      },
      "source": [
        "X_train_, y_train_ = shuffle(X_train, y_train) "
      ],
      "execution_count": 0,
      "outputs": []
    },
    {
      "cell_type": "code",
      "metadata": {
        "colab_type": "code",
        "id": "nQvwKjC-kUmr",
        "colab": {}
      },
      "source": [
        "X_train__, y_train__ = shuffle(X_train, y_train) "
      ],
      "execution_count": 0,
      "outputs": []
    },
    {
      "cell_type": "code",
      "metadata": {
        "id": "fTxPHieEPAfY",
        "colab_type": "code",
        "outputId": "a789a4bf-fad3-4702-9c8e-1ddae954f15e",
        "colab": {
          "base_uri": "https://localhost:8080/",
          "height": 51
        }
      },
      "source": [
        " \n",
        " X=[1,2,3, 4, 5, 6, 7, 8, 9, 10]\n",
        " y = ['one', 'two', 'three', 'four', 'five', 'six', 'seven', 'eight', 'nine', 'ten'] \n",
        " X, y = shuffle(X, y) \n",
        " print(X)\n",
        " print(y) "
      ],
      "execution_count": 0,
      "outputs": [
        {
          "output_type": "stream",
          "text": [
            "[8, 7, 9, 10, 1, 5, 6, 3, 2, 4]\n",
            "['eight', 'seven', 'nine', 'ten', 'one', 'five', 'six', 'three', 'two', 'four']\n"
          ],
          "name": "stdout"
        }
      ]
    },
    {
      "cell_type": "code",
      "metadata": {
        "id": "O5BRlb4zcZcu",
        "colab_type": "code",
        "outputId": "885519c7-d09d-4d77-9255-c342bcd720b3",
        "colab": {
          "base_uri": "https://localhost:8080/",
          "height": 85
        }
      },
      "source": [
        "classification.fit_model(X_train=X_train, y_train=y_train)"
      ],
      "execution_count": 0,
      "outputs": [
        {
          "output_type": "stream",
          "text": [
            "Train on 23111 samples, validate on 5778 samples\n",
            "Epoch 1/1\n",
            "23111/23111 [==============================] - 4s 189us/step - loss: 2.2763 - acc: 0.2618 - val_loss: 8.5502 - val_acc: 0.0190\n"
          ],
          "name": "stdout"
        },
        {
          "output_type": "execute_result",
          "data": {
            "text/plain": [
              "<keras.callbacks.History at 0x7fb4179d7828>"
            ]
          },
          "metadata": {
            "tags": []
          },
          "execution_count": 70
        }
      ]
    },
    {
      "cell_type": "code",
      "metadata": {
        "id": "W177FMq2uEEv",
        "colab_type": "code",
        "outputId": "2853bcd1-3d00-454c-ea42-6901ad30d027",
        "colab": {
          "base_uri": "https://localhost:8080/",
          "height": 527
        }
      },
      "source": [
        "localization = RoadSignLocalization()\n",
        "X_train, y_train = localization.get_all_train_images_()"
      ],
      "execution_count": 0,
      "outputs": [
        {
          "output_type": "stream",
          "text": [
            "00\n",
            "28\n",
            "23\n",
            "01\n",
            "14\n",
            "02\n",
            "03\n",
            "10\n",
            "04\n",
            "05\n",
            "09\n",
            "06\n",
            "13\n",
            "08\n",
            "07\n",
            "29\n",
            "27\n",
            "26\n",
            "25\n",
            "24\n",
            "12\n",
            "11\n",
            "15\n",
            "16\n",
            "17\n",
            "18\n",
            "19\n",
            "21\n",
            "22\n",
            "20\n"
          ],
          "name": "stdout"
        }
      ]
    },
    {
      "cell_type": "code",
      "metadata": {
        "id": "4S844ghasRQN",
        "colab_type": "code",
        "colab": {}
      },
      "source": [
        "from sklearn.model_selection import cross_val_score"
      ],
      "execution_count": 0,
      "outputs": []
    },
    {
      "cell_type": "code",
      "metadata": {
        "id": "0xawfwJKsKiy",
        "colab_type": "code",
        "colab": {}
      },
      "source": [
        "kf = model_selection.KFold(n_splits = 3)"
      ],
      "execution_count": 0,
      "outputs": []
    },
    {
      "cell_type": "code",
      "metadata": {
        "id": "MhPntste1SO3",
        "colab_type": "code",
        "outputId": "5cc02e9f-d768-4a03-cfc7-6789eb66a097",
        "colab": {
          "base_uri": "https://localhost:8080/",
          "height": 34
        }
      },
      "source": [
        "X = np.array([1, 2, 3, 4, 5, 6, 7, 8, 9])\n",
        "X[[0, 2, 3, 4]]"
      ],
      "execution_count": 0,
      "outputs": [
        {
          "output_type": "execute_result",
          "data": {
            "text/plain": [
              "array([1, 3, 4, 5])"
            ]
          },
          "metadata": {
            "tags": []
          },
          "execution_count": 56
        }
      ]
    },
    {
      "cell_type": "code",
      "metadata": {
        "id": "hF7MDIuzsvqz",
        "colab_type": "code",
        "outputId": "949afe04-addd-49fb-ca74-55a9bdd67da7",
        "colab": {
          "base_uri": "https://localhost:8080/",
          "height": 272
        }
      },
      "source": [
        "for train, test in kf.split(X_train):\n",
        "  print('train')\n",
        "  print(train)\n",
        "  print('test')\n",
        "  print(test)\n",
        "  print(test.shape)"
      ],
      "execution_count": 0,
      "outputs": [
        {
          "output_type": "stream",
          "text": [
            "train\n",
            "[ 9630  9631  9632 ... 28886 28887 28888]\n",
            "test\n",
            "[   0    1    2 ... 9627 9628 9629]\n",
            "(9630,)\n",
            "train\n",
            "[    0     1     2 ... 28886 28887 28888]\n",
            "test\n",
            "[ 9630  9631  9632 ... 19257 19258 19259]\n",
            "(9630,)\n",
            "train\n",
            "[    0     1     2 ... 19257 19258 19259]\n",
            "test\n",
            "[19260 19261 19262 ... 28886 28887 28888]\n",
            "(9629,)\n"
          ],
          "name": "stdout"
        }
      ]
    },
    {
      "cell_type": "code",
      "metadata": {
        "id": "CcNQ2yy5FUJs",
        "colab_type": "code",
        "outputId": "2d20bd9d-a469-4e37-e14b-a581323e1715",
        "colab": {
          "base_uri": "https://localhost:8080/",
          "height": 122
        }
      },
      "source": [
        "from google.colab import drive\n",
        "drive.mount('/content/drive')"
      ],
      "execution_count": 2,
      "outputs": [
        {
          "output_type": "stream",
          "text": [
            "Go to this URL in a browser: https://accounts.google.com/o/oauth2/auth?client_id=947318989803-6bn6qk8qdgf4n4g3pfee6491hc0brc4i.apps.googleusercontent.com&redirect_uri=urn%3aietf%3awg%3aoauth%3a2.0%3aoob&response_type=code&scope=email%20https%3a%2f%2fwww.googleapis.com%2fauth%2fdocs.test%20https%3a%2f%2fwww.googleapis.com%2fauth%2fdrive%20https%3a%2f%2fwww.googleapis.com%2fauth%2fdrive.photos.readonly%20https%3a%2f%2fwww.googleapis.com%2fauth%2fpeopleapi.readonly\n",
            "\n",
            "Enter your authorization code:\n",
            "··········\n",
            "Mounted at /content/drive\n"
          ],
          "name": "stdout"
        }
      ]
    },
    {
      "cell_type": "code",
      "metadata": {
        "id": "XRE11Tmavd56",
        "colab_type": "code",
        "colab": {}
      },
      "source": [
        "classification.X_predict, classification.names_of_images = localization.get_all_signs_for_predict()"
      ],
      "execution_count": 0,
      "outputs": []
    },
    {
      "cell_type": "code",
      "metadata": {
        "id": "09hhS8ZJFZ34",
        "colab_type": "code",
        "outputId": "4beab896-16c6-44f6-9771-3442a6e626c6",
        "colab": {
          "base_uri": "https://localhost:8080/",
          "height": 323
        }
      },
      "source": [
        "classification.fit_model()"
      ],
      "execution_count": 0,
      "outputs": [
        {
          "output_type": "stream",
          "text": [
            "00\n"
          ],
          "name": "stdout"
        },
        {
          "output_type": "error",
          "ename": "KeyboardInterrupt",
          "evalue": "ignored",
          "traceback": [
            "\u001b[0;31m---------------------------------------------------------------------------\u001b[0m",
            "\u001b[0;31mKeyboardInterrupt\u001b[0m                         Traceback (most recent call last)",
            "\u001b[0;32m<ipython-input-27-dd452b84569b>\u001b[0m in \u001b[0;36m<module>\u001b[0;34m()\u001b[0m\n\u001b[0;32m----> 1\u001b[0;31m \u001b[0mclassification\u001b[0m\u001b[0;34m.\u001b[0m\u001b[0mfit_model\u001b[0m\u001b[0;34m(\u001b[0m\u001b[0;34m)\u001b[0m\u001b[0;34m\u001b[0m\u001b[0;34m\u001b[0m\u001b[0m\n\u001b[0m",
            "\u001b[0;32m<ipython-input-4-486bb9ff001e>\u001b[0m in \u001b[0;36mfit_model\u001b[0;34m(self, retrain)\u001b[0m\n\u001b[1;32m     58\u001b[0m   \u001b[0;32mdef\u001b[0m \u001b[0mfit_model\u001b[0m\u001b[0;34m(\u001b[0m\u001b[0mself\u001b[0m\u001b[0;34m,\u001b[0m \u001b[0mretrain\u001b[0m \u001b[0;34m=\u001b[0m \u001b[0;32mFalse\u001b[0m\u001b[0;34m)\u001b[0m\u001b[0;34m:\u001b[0m\u001b[0;34m\u001b[0m\u001b[0;34m\u001b[0m\u001b[0m\n\u001b[1;32m     59\u001b[0m     \u001b[0;32mif\u001b[0m \u001b[0mint\u001b[0m\u001b[0;34m(\u001b[0m\u001b[0mretrain\u001b[0m\u001b[0;34m)\u001b[0m \u001b[0;34m==\u001b[0m \u001b[0;36m0\u001b[0m\u001b[0;34m:\u001b[0m\u001b[0;34m\u001b[0m\u001b[0;34m\u001b[0m\u001b[0m\n\u001b[0;32m---> 60\u001b[0;31m       \u001b[0mself\u001b[0m\u001b[0;34m.\u001b[0m\u001b[0mprepocess_train_images\u001b[0m\u001b[0;34m(\u001b[0m\u001b[0;34m)\u001b[0m\u001b[0;34m\u001b[0m\u001b[0;34m\u001b[0m\u001b[0m\n\u001b[0m\u001b[1;32m     61\u001b[0m       \u001b[0mmy_model\u001b[0m \u001b[0;34m=\u001b[0m \u001b[0mself\u001b[0m\u001b[0;34m.\u001b[0m\u001b[0mget_model\u001b[0m\u001b[0;34m(\u001b[0m\u001b[0;34m)\u001b[0m\u001b[0;34m\u001b[0m\u001b[0;34m\u001b[0m\u001b[0m\n\u001b[1;32m     62\u001b[0m \u001b[0;34m\u001b[0m\u001b[0m\n",
            "\u001b[0;32m<ipython-input-4-486bb9ff001e>\u001b[0m in \u001b[0;36mprepocess_train_images\u001b[0;34m(self)\u001b[0m\n\u001b[1;32m     67\u001b[0m   \u001b[0;32mdef\u001b[0m \u001b[0mprepocess_train_images\u001b[0m\u001b[0;34m(\u001b[0m\u001b[0mself\u001b[0m\u001b[0;34m)\u001b[0m\u001b[0;34m:\u001b[0m\u001b[0;34m\u001b[0m\u001b[0;34m\u001b[0m\u001b[0m\n\u001b[1;32m     68\u001b[0m     \u001b[0mlocalization\u001b[0m \u001b[0;34m=\u001b[0m \u001b[0mRoadSignLocalization\u001b[0m\u001b[0;34m(\u001b[0m\u001b[0;34m)\u001b[0m\u001b[0;34m\u001b[0m\u001b[0;34m\u001b[0m\u001b[0m\n\u001b[0;32m---> 69\u001b[0;31m     \u001b[0mself\u001b[0m\u001b[0;34m.\u001b[0m\u001b[0m__X_train\u001b[0m\u001b[0;34m,\u001b[0m \u001b[0mself\u001b[0m\u001b[0;34m.\u001b[0m\u001b[0m__y_train\u001b[0m \u001b[0;34m=\u001b[0m \u001b[0mlocalization\u001b[0m\u001b[0;34m.\u001b[0m\u001b[0mget_all_train_images_\u001b[0m\u001b[0;34m(\u001b[0m\u001b[0;34m)\u001b[0m\u001b[0;34m\u001b[0m\u001b[0;34m\u001b[0m\u001b[0m\n\u001b[0m\u001b[1;32m     70\u001b[0m \u001b[0;34m\u001b[0m\u001b[0m\n\u001b[1;32m     71\u001b[0m   \u001b[0;31m# тестируем сеть на тестовых изображениях из базы\u001b[0m\u001b[0;34m\u001b[0m\u001b[0;34m\u001b[0m\u001b[0;34m\u001b[0m\u001b[0m\n",
            "\u001b[0;32m<ipython-input-7-51619e2f4ef0>\u001b[0m in \u001b[0;36mget_all_train_images_\u001b[0;34m(self)\u001b[0m\n\u001b[1;32m     62\u001b[0m         \u001b[0;32mfor\u001b[0m \u001b[0mfile\u001b[0m \u001b[0;32min\u001b[0m \u001b[0mfiles\u001b[0m\u001b[0;34m:\u001b[0m\u001b[0;34m\u001b[0m\u001b[0;34m\u001b[0m\u001b[0m\n\u001b[1;32m     63\u001b[0m           \u001b[0;32mif\u001b[0m \u001b[0mfile\u001b[0m\u001b[0;34m[\u001b[0m\u001b[0;34m-\u001b[0m\u001b[0;36m8\u001b[0m\u001b[0;34m:\u001b[0m\u001b[0;34m]\u001b[0m \u001b[0;34m==\u001b[0m \u001b[0;34m\"_new.ppm\"\u001b[0m\u001b[0;34m:\u001b[0m\u001b[0;34m\u001b[0m\u001b[0;34m\u001b[0m\u001b[0m\n\u001b[0;32m---> 64\u001b[0;31m             \u001b[0mimages_of_signs\u001b[0m\u001b[0;34m.\u001b[0m\u001b[0mappend\u001b[0m\u001b[0;34m(\u001b[0m\u001b[0mio\u001b[0m\u001b[0;34m.\u001b[0m\u001b[0mimread\u001b[0m\u001b[0;34m(\u001b[0m\u001b[0mroot\u001b[0m \u001b[0;34m+\u001b[0m \u001b[0;34m'/'\u001b[0m \u001b[0;34m+\u001b[0m \u001b[0mfile\u001b[0m\u001b[0;34m)\u001b[0m\u001b[0;34m)\u001b[0m\u001b[0;31m#добавляем в массив изображений\u001b[0m\u001b[0;34m\u001b[0m\u001b[0;34m\u001b[0m\u001b[0m\n\u001b[0m\u001b[1;32m     65\u001b[0m             \u001b[0mclasses_of_signs\u001b[0m\u001b[0;34m.\u001b[0m\u001b[0mappend\u001b[0m\u001b[0;34m(\u001b[0m\u001b[0mint\u001b[0m\u001b[0;34m(\u001b[0m\u001b[0msign_class\u001b[0m\u001b[0;34m)\u001b[0m\u001b[0;34m)\u001b[0m\u001b[0;31m#заносим информацию о классе знака\u001b[0m\u001b[0;34m\u001b[0m\u001b[0;34m\u001b[0m\u001b[0m\n\u001b[1;32m     66\u001b[0m \u001b[0;34m\u001b[0m\u001b[0m\n",
            "\u001b[0;32m/usr/local/lib/python3.6/dist-packages/skimage/io/_io.py\u001b[0m in \u001b[0;36mimread\u001b[0;34m(fname, as_gray, plugin, flatten, **plugin_args)\u001b[0m\n\u001b[1;32m     59\u001b[0m \u001b[0;34m\u001b[0m\u001b[0m\n\u001b[1;32m     60\u001b[0m     \u001b[0;32mwith\u001b[0m \u001b[0mfile_or_url_context\u001b[0m\u001b[0;34m(\u001b[0m\u001b[0mfname\u001b[0m\u001b[0;34m)\u001b[0m \u001b[0;32mas\u001b[0m \u001b[0mfname\u001b[0m\u001b[0;34m:\u001b[0m\u001b[0;34m\u001b[0m\u001b[0;34m\u001b[0m\u001b[0m\n\u001b[0;32m---> 61\u001b[0;31m         \u001b[0mimg\u001b[0m \u001b[0;34m=\u001b[0m \u001b[0mcall_plugin\u001b[0m\u001b[0;34m(\u001b[0m\u001b[0;34m'imread'\u001b[0m\u001b[0;34m,\u001b[0m \u001b[0mfname\u001b[0m\u001b[0;34m,\u001b[0m \u001b[0mplugin\u001b[0m\u001b[0;34m=\u001b[0m\u001b[0mplugin\u001b[0m\u001b[0;34m,\u001b[0m \u001b[0;34m**\u001b[0m\u001b[0mplugin_args\u001b[0m\u001b[0;34m)\u001b[0m\u001b[0;34m\u001b[0m\u001b[0;34m\u001b[0m\u001b[0m\n\u001b[0m\u001b[1;32m     62\u001b[0m \u001b[0;34m\u001b[0m\u001b[0m\n\u001b[1;32m     63\u001b[0m     \u001b[0;32mif\u001b[0m \u001b[0;32mnot\u001b[0m \u001b[0mhasattr\u001b[0m\u001b[0;34m(\u001b[0m\u001b[0mimg\u001b[0m\u001b[0;34m,\u001b[0m \u001b[0;34m'ndim'\u001b[0m\u001b[0;34m)\u001b[0m\u001b[0;34m:\u001b[0m\u001b[0;34m\u001b[0m\u001b[0;34m\u001b[0m\u001b[0m\n",
            "\u001b[0;32m/usr/local/lib/python3.6/dist-packages/skimage/io/manage_plugins.py\u001b[0m in \u001b[0;36mcall_plugin\u001b[0;34m(kind, *args, **kwargs)\u001b[0m\n\u001b[1;32m    208\u001b[0m                                (plugin, kind))\n\u001b[1;32m    209\u001b[0m \u001b[0;34m\u001b[0m\u001b[0m\n\u001b[0;32m--> 210\u001b[0;31m     \u001b[0;32mreturn\u001b[0m \u001b[0mfunc\u001b[0m\u001b[0;34m(\u001b[0m\u001b[0;34m*\u001b[0m\u001b[0margs\u001b[0m\u001b[0;34m,\u001b[0m \u001b[0;34m**\u001b[0m\u001b[0mkwargs\u001b[0m\u001b[0;34m)\u001b[0m\u001b[0;34m\u001b[0m\u001b[0;34m\u001b[0m\u001b[0m\n\u001b[0m\u001b[1;32m    211\u001b[0m \u001b[0;34m\u001b[0m\u001b[0m\n\u001b[1;32m    212\u001b[0m \u001b[0;34m\u001b[0m\u001b[0m\n",
            "\u001b[0;32m/usr/local/lib/python3.6/dist-packages/imageio/core/functions.py\u001b[0m in \u001b[0;36mimread\u001b[0;34m(uri, format, **kwargs)\u001b[0m\n\u001b[1;32m    219\u001b[0m \u001b[0;34m\u001b[0m\u001b[0m\n\u001b[1;32m    220\u001b[0m     \u001b[0;31m# Get reader and read first\u001b[0m\u001b[0;34m\u001b[0m\u001b[0;34m\u001b[0m\u001b[0;34m\u001b[0m\u001b[0m\n\u001b[0;32m--> 221\u001b[0;31m     \u001b[0mreader\u001b[0m \u001b[0;34m=\u001b[0m \u001b[0mread\u001b[0m\u001b[0;34m(\u001b[0m\u001b[0muri\u001b[0m\u001b[0;34m,\u001b[0m \u001b[0mformat\u001b[0m\u001b[0;34m,\u001b[0m \u001b[0;34m\"i\"\u001b[0m\u001b[0;34m,\u001b[0m \u001b[0;34m**\u001b[0m\u001b[0mkwargs\u001b[0m\u001b[0;34m)\u001b[0m\u001b[0;34m\u001b[0m\u001b[0;34m\u001b[0m\u001b[0m\n\u001b[0m\u001b[1;32m    222\u001b[0m     \u001b[0;32mwith\u001b[0m \u001b[0mreader\u001b[0m\u001b[0;34m:\u001b[0m\u001b[0;34m\u001b[0m\u001b[0;34m\u001b[0m\u001b[0m\n\u001b[1;32m    223\u001b[0m         \u001b[0;32mreturn\u001b[0m \u001b[0mreader\u001b[0m\u001b[0;34m.\u001b[0m\u001b[0mget_data\u001b[0m\u001b[0;34m(\u001b[0m\u001b[0;36m0\u001b[0m\u001b[0;34m)\u001b[0m\u001b[0;34m\u001b[0m\u001b[0;34m\u001b[0m\u001b[0m\n",
            "\u001b[0;32m/usr/local/lib/python3.6/dist-packages/imageio/core/functions.py\u001b[0m in \u001b[0;36mget_reader\u001b[0;34m(uri, format, mode, **kwargs)\u001b[0m\n\u001b[1;32m    134\u001b[0m         \u001b[0mformat\u001b[0m \u001b[0;34m=\u001b[0m \u001b[0mformats\u001b[0m\u001b[0;34m[\u001b[0m\u001b[0mformat\u001b[0m\u001b[0;34m]\u001b[0m\u001b[0;34m\u001b[0m\u001b[0;34m\u001b[0m\u001b[0m\n\u001b[1;32m    135\u001b[0m     \u001b[0;32melse\u001b[0m\u001b[0;34m:\u001b[0m\u001b[0;34m\u001b[0m\u001b[0;34m\u001b[0m\u001b[0m\n\u001b[0;32m--> 136\u001b[0;31m         \u001b[0mformat\u001b[0m \u001b[0;34m=\u001b[0m \u001b[0mformats\u001b[0m\u001b[0;34m.\u001b[0m\u001b[0msearch_read_format\u001b[0m\u001b[0;34m(\u001b[0m\u001b[0mrequest\u001b[0m\u001b[0;34m)\u001b[0m\u001b[0;34m\u001b[0m\u001b[0;34m\u001b[0m\u001b[0m\n\u001b[0m\u001b[1;32m    137\u001b[0m     \u001b[0;32mif\u001b[0m \u001b[0mformat\u001b[0m \u001b[0;32mis\u001b[0m \u001b[0;32mNone\u001b[0m\u001b[0;34m:\u001b[0m\u001b[0;34m\u001b[0m\u001b[0;34m\u001b[0m\u001b[0m\n\u001b[1;32m    138\u001b[0m         raise ValueError(\n",
            "\u001b[0;32m/usr/local/lib/python3.6/dist-packages/imageio/core/format.py\u001b[0m in \u001b[0;36msearch_read_format\u001b[0;34m(self, request)\u001b[0m\n\u001b[1;32m    685\u001b[0m         \u001b[0;31m# Select the first that can\u001b[0m\u001b[0;34m\u001b[0m\u001b[0;34m\u001b[0m\u001b[0;34m\u001b[0m\u001b[0m\n\u001b[1;32m    686\u001b[0m         \u001b[0;32mfor\u001b[0m \u001b[0mformat\u001b[0m \u001b[0;32min\u001b[0m \u001b[0mselected_formats\u001b[0m\u001b[0;34m:\u001b[0m\u001b[0;34m\u001b[0m\u001b[0;34m\u001b[0m\u001b[0m\n\u001b[0;32m--> 687\u001b[0;31m             \u001b[0;32mif\u001b[0m \u001b[0mformat\u001b[0m\u001b[0;34m.\u001b[0m\u001b[0mcan_read\u001b[0m\u001b[0;34m(\u001b[0m\u001b[0mrequest\u001b[0m\u001b[0;34m)\u001b[0m\u001b[0;34m:\u001b[0m\u001b[0;34m\u001b[0m\u001b[0;34m\u001b[0m\u001b[0m\n\u001b[0m\u001b[1;32m    688\u001b[0m                 \u001b[0;32mreturn\u001b[0m \u001b[0mformat\u001b[0m\u001b[0;34m\u001b[0m\u001b[0;34m\u001b[0m\u001b[0m\n\u001b[1;32m    689\u001b[0m \u001b[0;34m\u001b[0m\u001b[0m\n",
            "\u001b[0;32m/usr/local/lib/python3.6/dist-packages/imageio/core/format.py\u001b[0m in \u001b[0;36mcan_read\u001b[0;34m(self, request)\u001b[0m\n\u001b[1;32m    193\u001b[0m         \u001b[0mGet\u001b[0m \u001b[0mwhether\u001b[0m \u001b[0mthis\u001b[0m \u001b[0mformat\u001b[0m \u001b[0mcan\u001b[0m \u001b[0mread\u001b[0m \u001b[0mdata\u001b[0m \u001b[0;32mfrom\u001b[0m \u001b[0mthe\u001b[0m \u001b[0mspecified\u001b[0m \u001b[0muri\u001b[0m\u001b[0;34m.\u001b[0m\u001b[0;34m\u001b[0m\u001b[0;34m\u001b[0m\u001b[0m\n\u001b[1;32m    194\u001b[0m         \"\"\"\n\u001b[0;32m--> 195\u001b[0;31m         \u001b[0;32mreturn\u001b[0m \u001b[0mself\u001b[0m\u001b[0;34m.\u001b[0m\u001b[0m_can_read\u001b[0m\u001b[0;34m(\u001b[0m\u001b[0mrequest\u001b[0m\u001b[0;34m)\u001b[0m\u001b[0;34m\u001b[0m\u001b[0;34m\u001b[0m\u001b[0m\n\u001b[0m\u001b[1;32m    196\u001b[0m \u001b[0;34m\u001b[0m\u001b[0m\n\u001b[1;32m    197\u001b[0m     \u001b[0;32mdef\u001b[0m \u001b[0mcan_write\u001b[0m\u001b[0;34m(\u001b[0m\u001b[0mself\u001b[0m\u001b[0;34m,\u001b[0m \u001b[0mrequest\u001b[0m\u001b[0;34m)\u001b[0m\u001b[0;34m:\u001b[0m\u001b[0;34m\u001b[0m\u001b[0;34m\u001b[0m\u001b[0m\n",
            "\u001b[0;32m/usr/local/lib/python3.6/dist-packages/imageio/plugins/pillow.py\u001b[0m in \u001b[0;36m_can_read\u001b[0;34m(self, request)\u001b[0m\n\u001b[1;32m    102\u001b[0m                 \u001b[0mfactory\u001b[0m\u001b[0;34m,\u001b[0m \u001b[0maccept\u001b[0m \u001b[0;34m=\u001b[0m \u001b[0mImage\u001b[0m\u001b[0;34m.\u001b[0m\u001b[0mOPEN\u001b[0m\u001b[0;34m[\u001b[0m\u001b[0mself\u001b[0m\u001b[0;34m.\u001b[0m\u001b[0mplugin_id\u001b[0m\u001b[0;34m]\u001b[0m\u001b[0;34m\u001b[0m\u001b[0;34m\u001b[0m\u001b[0m\n\u001b[1;32m    103\u001b[0m                 \u001b[0;32mif\u001b[0m \u001b[0maccept\u001b[0m\u001b[0;34m:\u001b[0m\u001b[0;34m\u001b[0m\u001b[0;34m\u001b[0m\u001b[0m\n\u001b[0;32m--> 104\u001b[0;31m                     \u001b[0;32mif\u001b[0m \u001b[0mrequest\u001b[0m\u001b[0;34m.\u001b[0m\u001b[0mfirstbytes\u001b[0m \u001b[0;32mand\u001b[0m \u001b[0maccept\u001b[0m\u001b[0;34m(\u001b[0m\u001b[0mrequest\u001b[0m\u001b[0;34m.\u001b[0m\u001b[0mfirstbytes\u001b[0m\u001b[0;34m)\u001b[0m\u001b[0;34m:\u001b[0m\u001b[0;34m\u001b[0m\u001b[0;34m\u001b[0m\u001b[0m\n\u001b[0m\u001b[1;32m    105\u001b[0m                         \u001b[0;32mreturn\u001b[0m \u001b[0;32mTrue\u001b[0m\u001b[0;34m\u001b[0m\u001b[0;34m\u001b[0m\u001b[0m\n\u001b[1;32m    106\u001b[0m \u001b[0;34m\u001b[0m\u001b[0m\n",
            "\u001b[0;32m/usr/local/lib/python3.6/dist-packages/imageio/core/request.py\u001b[0m in \u001b[0;36mfirstbytes\u001b[0;34m(self)\u001b[0m\n\u001b[1;32m    445\u001b[0m         \"\"\"\n\u001b[1;32m    446\u001b[0m         \u001b[0;32mif\u001b[0m \u001b[0mself\u001b[0m\u001b[0;34m.\u001b[0m\u001b[0m_firstbytes\u001b[0m \u001b[0;32mis\u001b[0m \u001b[0;32mNone\u001b[0m\u001b[0;34m:\u001b[0m\u001b[0;34m\u001b[0m\u001b[0;34m\u001b[0m\u001b[0m\n\u001b[0;32m--> 447\u001b[0;31m             \u001b[0mself\u001b[0m\u001b[0;34m.\u001b[0m\u001b[0m_read_first_bytes\u001b[0m\u001b[0;34m(\u001b[0m\u001b[0;34m)\u001b[0m\u001b[0;34m\u001b[0m\u001b[0;34m\u001b[0m\u001b[0m\n\u001b[0m\u001b[1;32m    448\u001b[0m         \u001b[0;32mreturn\u001b[0m \u001b[0mself\u001b[0m\u001b[0;34m.\u001b[0m\u001b[0m_firstbytes\u001b[0m\u001b[0;34m\u001b[0m\u001b[0;34m\u001b[0m\u001b[0m\n\u001b[1;32m    449\u001b[0m \u001b[0;34m\u001b[0m\u001b[0m\n",
            "\u001b[0;32m/usr/local/lib/python3.6/dist-packages/imageio/core/request.py\u001b[0m in \u001b[0;36m_read_first_bytes\u001b[0;34m(self, N)\u001b[0m\n\u001b[1;32m    465\u001b[0m                 \u001b[0mi\u001b[0m \u001b[0;34m=\u001b[0m \u001b[0;32mNone\u001b[0m\u001b[0;34m\u001b[0m\u001b[0;34m\u001b[0m\u001b[0m\n\u001b[1;32m    466\u001b[0m             \u001b[0;31m# Read\u001b[0m\u001b[0;34m\u001b[0m\u001b[0;34m\u001b[0m\u001b[0;34m\u001b[0m\u001b[0m\n\u001b[0;32m--> 467\u001b[0;31m             \u001b[0mself\u001b[0m\u001b[0;34m.\u001b[0m\u001b[0m_firstbytes\u001b[0m \u001b[0;34m=\u001b[0m \u001b[0mread_n_bytes\u001b[0m\u001b[0;34m(\u001b[0m\u001b[0mf\u001b[0m\u001b[0;34m,\u001b[0m \u001b[0mN\u001b[0m\u001b[0;34m)\u001b[0m\u001b[0;34m\u001b[0m\u001b[0;34m\u001b[0m\u001b[0m\n\u001b[0m\u001b[1;32m    468\u001b[0m             \u001b[0;31m# Set back\u001b[0m\u001b[0;34m\u001b[0m\u001b[0;34m\u001b[0m\u001b[0;34m\u001b[0m\u001b[0m\n\u001b[1;32m    469\u001b[0m             \u001b[0;32mtry\u001b[0m\u001b[0;34m:\u001b[0m\u001b[0;34m\u001b[0m\u001b[0;34m\u001b[0m\u001b[0m\n",
            "\u001b[0;32m/usr/local/lib/python3.6/dist-packages/imageio/core/request.py\u001b[0m in \u001b[0;36mread_n_bytes\u001b[0;34m(f, N)\u001b[0m\n\u001b[1;32m    487\u001b[0m     \u001b[0mbb\u001b[0m \u001b[0;34m=\u001b[0m \u001b[0mbinary_type\u001b[0m\u001b[0;34m(\u001b[0m\u001b[0;34m)\u001b[0m\u001b[0;34m\u001b[0m\u001b[0;34m\u001b[0m\u001b[0m\n\u001b[1;32m    488\u001b[0m     \u001b[0;32mwhile\u001b[0m \u001b[0mlen\u001b[0m\u001b[0;34m(\u001b[0m\u001b[0mbb\u001b[0m\u001b[0;34m)\u001b[0m \u001b[0;34m<\u001b[0m \u001b[0mN\u001b[0m\u001b[0;34m:\u001b[0m\u001b[0;34m\u001b[0m\u001b[0;34m\u001b[0m\u001b[0m\n\u001b[0;32m--> 489\u001b[0;31m         \u001b[0mextra_bytes\u001b[0m \u001b[0;34m=\u001b[0m \u001b[0mf\u001b[0m\u001b[0;34m.\u001b[0m\u001b[0mread\u001b[0m\u001b[0;34m(\u001b[0m\u001b[0mN\u001b[0m \u001b[0;34m-\u001b[0m \u001b[0mlen\u001b[0m\u001b[0;34m(\u001b[0m\u001b[0mbb\u001b[0m\u001b[0;34m)\u001b[0m\u001b[0;34m)\u001b[0m\u001b[0;34m\u001b[0m\u001b[0;34m\u001b[0m\u001b[0m\n\u001b[0m\u001b[1;32m    490\u001b[0m         \u001b[0;32mif\u001b[0m \u001b[0;32mnot\u001b[0m \u001b[0mextra_bytes\u001b[0m\u001b[0;34m:\u001b[0m\u001b[0;34m\u001b[0m\u001b[0;34m\u001b[0m\u001b[0m\n\u001b[1;32m    491\u001b[0m             \u001b[0;32mbreak\u001b[0m\u001b[0;34m\u001b[0m\u001b[0;34m\u001b[0m\u001b[0m\n",
            "\u001b[0;31mKeyboardInterrupt\u001b[0m: "
          ]
        }
      ]
    }
  ]
}